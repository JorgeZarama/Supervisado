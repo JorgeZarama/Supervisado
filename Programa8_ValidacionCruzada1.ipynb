{
  "cells": [
    {
      "cell_type": "markdown",
      "metadata": {
        "id": "view-in-github",
        "colab_type": "text"
      },
      "source": [
        "<a href=\"https://colab.research.google.com/github/JorgeZarama/Supervisado/blob/main/Programa8_ValidacionCruzada1.ipynb\" target=\"_parent\"><img src=\"https://colab.research.google.com/assets/colab-badge.svg\" alt=\"Open In Colab\"/></a>"
      ]
    },
    {
      "cell_type": "code",
      "execution_count": 1,
      "metadata": {
        "id": "FUVs2QazQzce"
      },
      "outputs": [],
      "source": [
        "from sklearn.model_selection import KFold"
      ]
    },
    {
      "cell_type": "code",
      "execution_count": 6,
      "metadata": {
        "colab": {
          "base_uri": "https://localhost:8080/"
        },
        "id": "LwLXX5NQQzcg",
        "outputId": "6a8375b8-66c1-41f2-8fa0-2344873ca52c"
      },
      "outputs": [
        {
          "output_type": "stream",
          "name": "stdout",
          "text": [
            "['a', 'b', 'c', 'd', 'e', 'f', 'g', 'h', 'i', 'j']\n"
          ]
        }
      ],
      "source": [
        "# Carga de datos.\n",
        "X = [\"a\", \"b\", \"c\", \"d\", \"e\", \"f\", \"g\", \"h\", \"i\", \"j\"]\n",
        "print(X)"
      ]
    },
    {
      "cell_type": "code",
      "execution_count": 5,
      "metadata": {
        "colab": {
          "base_uri": "https://localhost:8080/"
        },
        "id": "bvALy_7kQzch",
        "outputId": "8bfab6c7-dfed-4f57-ad58-7a46d930275b"
      },
      "outputs": [
        {
          "output_type": "stream",
          "name": "stdout",
          "text": [
            "<generator object _BaseKFold.split at 0x78aa686ade70>\n"
          ]
        }
      ],
      "source": [
        "# Validación cruzada.\n",
        "kf = KFold(n_splits = 5, shuffle=True) # Shuffle permite aleatorizar las bolsas de test vez de hacer una lectura por orden\n",
        "bolsas = kf.split(X)\n",
        "print(bolsas)"
      ]
    },
    {
      "cell_type": "code",
      "execution_count": 4,
      "metadata": {
        "colab": {
          "base_uri": "https://localhost:8080/"
        },
        "id": "yHxvhpeRQzch",
        "outputId": "cf6a7436-053c-468c-a801-d0012bd0dee9"
      },
      "outputs": [
        {
          "output_type": "stream",
          "name": "stdout",
          "text": [
            "Iteracion 1 :\n",
            " - Entrenamiento: [1 2 3 4 6 7 8 9]\n",
            " - Test: [0 5]\n",
            "Iteracion 2 :\n",
            " - Entrenamiento: [0 1 2 3 4 5 6 7]\n",
            " - Test: [8 9]\n",
            "Iteracion 3 :\n",
            " - Entrenamiento: [0 1 3 4 5 6 8 9]\n",
            " - Test: [2 7]\n",
            "Iteracion 4 :\n",
            " - Entrenamiento: [0 2 3 4 5 7 8 9]\n",
            " - Test: [1 6]\n",
            "Iteracion 5 :\n",
            " - Entrenamiento: [0 1 2 5 6 7 8 9]\n",
            " - Test: [3 4]\n"
          ]
        }
      ],
      "source": [
        "# Mostrar ejemplos de cada iteración.\n",
        "k = 1\n",
        "for train, test in bolsas:\n",
        "    print(\"Iteracion\", k, \":\")\n",
        "    print(\" - Entrenamiento: %s\" % (train))\n",
        "    print(\" - Test: %s\" % (test))\n",
        "    k = k + 1"
      ]
    },
    {
      "cell_type": "code",
      "source": [],
      "metadata": {
        "id": "ImNh9YIga-vW"
      },
      "execution_count": null,
      "outputs": []
    }
  ],
  "metadata": {
    "kernelspec": {
      "display_name": "Python 3",
      "language": "python",
      "name": "python3"
    },
    "language_info": {
      "codemirror_mode": {
        "name": "ipython",
        "version": 3
      },
      "file_extension": ".py",
      "mimetype": "text/x-python",
      "name": "python",
      "nbconvert_exporter": "python",
      "pygments_lexer": "ipython3",
      "version": "3.8.5"
    },
    "colab": {
      "provenance": [],
      "include_colab_link": true
    }
  },
  "nbformat": 4,
  "nbformat_minor": 0
}