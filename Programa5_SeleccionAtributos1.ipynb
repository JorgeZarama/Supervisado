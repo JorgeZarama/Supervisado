{
  "cells": [
    {
      "cell_type": "markdown",
      "metadata": {
        "id": "view-in-github",
        "colab_type": "text"
      },
      "source": [
        "<a href=\"https://colab.research.google.com/github/JorgeZarama/Supervisado/blob/main/Programa5_SeleccionAtributos1.ipynb\" target=\"_parent\"><img src=\"https://colab.research.google.com/assets/colab-badge.svg\" alt=\"Open In Colab\"/></a>"
      ]
    },
    {
      "cell_type": "code",
      "execution_count": 1,
      "metadata": {
        "id": "zlNioYdtOFLL"
      },
      "outputs": [],
      "source": [
        "import numpy as np\n",
        "from sklearn.feature_selection import VarianceThreshold\n",
        "#Eliminación por baja varianza"
      ]
    },
    {
      "cell_type": "code",
      "execution_count": 11,
      "metadata": {
        "colab": {
          "base_uri": "https://localhost:8080/"
        },
        "id": "iS1GqP2_OFLM",
        "outputId": "e81498c8-2ef6-47d4-9436-8507e5d6e5d6"
      },
      "outputs": [
        {
          "output_type": "stream",
          "name": "stdout",
          "text": [
            "[[0, 0, 1], [0, 1, 0], [1, 0, 0], [0, 1, 1], [0, 0, 0], [0, 0, 0], [0, 0, 0], [0, 1, 0], [1, 0, 0], [0, 1, 1], [0, 1, 0], [0, 1, 1], [0, 0, 1], [0, 1, 0], [1, 0, 0], [0, 1, 1], [0, 1, 0], [1, 0, 0], [0, 1, 1], [0, 0, 0], [0, 0, 0], [0, 0, 0], [0, 1, 0], [1, 0, 0], [0, 1, 1], [0, 1, 0], [0, 1, 1], [0, 0, 1], [0, 1, 0], [1, 0, 0], [0, 1, 1], [0, 1, 0], [0, 1, 1]]\n"
          ]
        }
      ],
      "source": [
        "# Carga de datos.\n",
        "X = [[0, 0, 1],\n",
        "     [0, 1, 0],\n",
        "     [1, 0, 0],\n",
        "     [0, 1, 1],\n",
        "     [0, 0, 0],\n",
        "     [0, 0, 0],\n",
        "     [0, 0, 0],\n",
        "     [0, 1, 0],\n",
        "     [1, 0, 0],\n",
        "     [0, 1, 1],\n",
        "     [0, 1, 0],\n",
        "     [0, 1, 1],\n",
        "     [0, 0, 1],\n",
        "     [0, 1, 0],\n",
        "     [1, 0, 0],\n",
        "     [0, 1, 1],\n",
        "     [0, 1, 0],\n",
        "     [1, 0, 0],\n",
        "     [0, 1, 1],\n",
        "     [0, 0, 0],\n",
        "     [0, 0, 0],\n",
        "     [0, 0, 0],\n",
        "     [0, 1, 0],\n",
        "     [1, 0, 0],\n",
        "     [0, 1, 1],\n",
        "     [0, 1, 0],\n",
        "     [0, 1, 1],\n",
        "     [0, 0, 1],\n",
        "     [0, 1, 0],\n",
        "     [1, 0, 0],\n",
        "     [0, 1, 1],\n",
        "     [0, 1, 0],\n",
        "     [0, 1, 1]]\n",
        "print(X)"
      ]
    },
    {
      "cell_type": "code",
      "execution_count": 14,
      "metadata": {
        "colab": {
          "base_uri": "https://localhost:8080/"
        },
        "id": "evrMxsSDOFLN",
        "outputId": "72a3aff8-54a5-4668-91a5-af68e1e816fa"
      },
      "outputs": [
        {
          "output_type": "stream",
          "name": "stdout",
          "text": [
            "[[0 0 1]\n",
            " [0 1 0]\n",
            " [1 0 0]\n",
            " [0 1 1]\n",
            " [0 0 0]\n",
            " [0 0 0]\n",
            " [0 0 0]\n",
            " [0 1 0]\n",
            " [1 0 0]\n",
            " [0 1 1]\n",
            " [0 1 0]\n",
            " [0 1 1]\n",
            " [0 0 1]\n",
            " [0 1 0]\n",
            " [1 0 0]\n",
            " [0 1 1]\n",
            " [0 1 0]\n",
            " [1 0 0]\n",
            " [0 1 1]\n",
            " [0 0 0]\n",
            " [0 0 0]\n",
            " [0 0 0]\n",
            " [0 1 0]\n",
            " [1 0 0]\n",
            " [0 1 1]\n",
            " [0 1 0]\n",
            " [0 1 1]\n",
            " [0 0 1]\n",
            " [0 1 0]\n",
            " [1 0 0]\n",
            " [0 1 1]\n",
            " [0 1 0]\n",
            " [0 1 1]]\n"
          ]
        }
      ],
      "source": [
        "# Limpieza de datos: selección de atributos.\n",
        "\n",
        "# fijamos un umbral (th) para decidir qué porcentaje mínimo deben variar los valores de una columna para considerarse\n",
        "# una columna relevante a la hora de mantenerla en nuestro estudio\n",
        "th = 0.1\n",
        "sel = VarianceThreshold(th)\n",
        "print(sel.fit_transform(X))\n",
        "#La primera columna se elimino por no cumplier el criterio de la varianza mínima\n"
      ]
    },
    {
      "cell_type": "code",
      "source": [],
      "metadata": {
        "id": "UV4j3h0ePPt6"
      },
      "execution_count": null,
      "outputs": []
    }
  ],
  "metadata": {
    "kernelspec": {
      "display_name": "Python 3",
      "language": "python",
      "name": "python3"
    },
    "language_info": {
      "codemirror_mode": {
        "name": "ipython",
        "version": 3
      },
      "file_extension": ".py",
      "mimetype": "text/x-python",
      "name": "python",
      "nbconvert_exporter": "python",
      "pygments_lexer": "ipython3",
      "version": "3.8.5"
    },
    "colab": {
      "provenance": [],
      "include_colab_link": true
    }
  },
  "nbformat": 4,
  "nbformat_minor": 0
}