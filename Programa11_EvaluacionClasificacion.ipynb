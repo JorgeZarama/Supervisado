{
  "cells": [
    {
      "cell_type": "markdown",
      "metadata": {
        "id": "view-in-github",
        "colab_type": "text"
      },
      "source": [
        "<a href=\"https://colab.research.google.com/github/JorgeZarama/Supervisado/blob/main/Programa11_EvaluacionClasificacion.ipynb\" target=\"_parent\"><img src=\"https://colab.research.google.com/assets/colab-badge.svg\" alt=\"Open In Colab\"/></a>"
      ]
    },
    {
      "cell_type": "code",
      "execution_count": 1,
      "metadata": {
        "id": "327KpPRpu_0M"
      },
      "outputs": [],
      "source": [
        "import numpy as np\n",
        "from sklearn import datasets\n",
        "from sklearn.dummy import DummyClassifier\n",
        "from sklearn.model_selection import cross_val_predict, cross_validate, cross_val_score\n",
        "from sklearn.model_selection import KFold\n",
        "import sklearn.metrics as metrics\n",
        "from sklearn.model_selection import train_test_split\n",
        "from sklearn import preprocessing\n",
        "from pprint import pprint\n",
        "from sklearn.svm import SVC\n",
        "import pandas as pd"
      ]
    },
    {
      "cell_type": "code",
      "execution_count": 53,
      "metadata": {
        "colab": {
          "base_uri": "https://localhost:8080/"
        },
        "id": "W0mmgsFTu_0N",
        "outputId": "63680346-26a2-4eb0-9515-f441537c8e73"
      },
      "outputs": [
        {
          "output_type": "stream",
          "name": "stdout",
          "text": [
            "        Col1       Col2       Col3       Col4        Col5       Col6  \\\n",
            "0  63.027817  22.552586  39.609117  40.475232   98.672917  -0.254400   \n",
            "1  39.056951  10.060991  25.015378  28.995960  114.405425   4.564259   \n",
            "2  68.832021  22.218482  50.092194  46.613539  105.985135  -3.530317   \n",
            "3  69.297008  24.652878  44.311238  44.644130  101.868495  11.211523   \n",
            "4  49.712859   9.652075  28.317406  40.060784  108.168725   7.918501   \n",
            "\n",
            "       Col7     Col8     Col9     Col10      Col11    Col12 Class_att  \\\n",
            "0  0.744503  12.5661  14.5386  15.30468 -28.658501  43.5123  Abnormal   \n",
            "1  0.415186  12.8874  17.5323  16.78486 -25.530607  16.1102  Abnormal   \n",
            "2  0.474889  26.8343  17.4861  16.65897 -29.031888  19.2221  Abnormal   \n",
            "3  0.369345  23.5603  12.7074  11.42447 -30.470246  18.8329  Abnormal   \n",
            "4  0.543360  35.4940  15.9546   8.87237 -16.378376  24.9171  Abnormal   \n",
            "\n",
            "                                         Unnamed: 13  \n",
            "0                                                NaN  \n",
            "1                                                NaN  \n",
            "2  Prediction is done by using binary classificat...  \n",
            "3                                                NaN  \n",
            "4                                                NaN  \n",
            "['Abnormal' 'Normal'] [210 100]\n"
          ]
        }
      ],
      "source": [
        "# Carga de datos.\n",
        "csv = pd.read_csv('Dataset_spine_2C.csv', sep=',')\n",
        "print(csv.head())\n",
        "# Convertir dataframe en numpy array\n",
        "data = np.array(csv)\n",
        "X = data[:,:-2]\n",
        "y = data[:,-2]\n",
        "\n",
        "ocur, frec = np.unique(y, return_counts=True)\n",
        "print(ocur, frec)"
      ]
    },
    {
      "cell_type": "code",
      "execution_count": 54,
      "metadata": {
        "colab": {
          "base_uri": "https://localhost:8080/"
        },
        "id": "azImfzeSu_0O",
        "outputId": "813b5d5a-adc3-4fcc-c3ca-393e9deab4d3"
      },
      "outputs": [
        {
          "output_type": "stream",
          "name": "stdout",
          "text": [
            "Train dimensions:  (248, 12)\n",
            "Test dimensions:   (62, 12)\n"
          ]
        }
      ],
      "source": [
        "# Partición EXTERNA. Test: hold-out split 80-20%.\n",
        "X_train, X_test, y_train, y_test = train_test_split(X, y, test_size=0.2, random_state=42)\n",
        "print('Train dimensions: ', np.shape(X_train))\n",
        "print('Test dimensions:  ', np.shape(X_test))\n"
      ]
    },
    {
      "cell_type": "code",
      "execution_count": 55,
      "metadata": {
        "id": "QB1CWsHtu_0O"
      },
      "outputs": [],
      "source": [
        "# Estandarización de los datos de entrenamiento y test\n",
        "standardizer = preprocessing.StandardScaler()\n",
        "X_train = standardizer.fit_transform(X_train)\n",
        "X_test = standardizer.transform(X_test)"
      ]
    },
    {
      "cell_type": "code",
      "execution_count": 61,
      "metadata": {
        "id": "biRMRMq9u_0O"
      },
      "outputs": [],
      "source": [
        "# Definimos el algoritmo\n",
        "# C=0.1, gamma='auto' y kernel gausiano\n",
        "alg = SVC(C=1, gamma='auto', kernel='rbf')"
      ]
    },
    {
      "cell_type": "code",
      "execution_count": 63,
      "metadata": {
        "id": "dRQ_NeIAu_0O",
        "colab": {
          "base_uri": "https://localhost:8080/"
        },
        "outputId": "861e7c61-12fc-4ff2-8bac-93882af0b692"
      },
      "outputs": [
        {
          "output_type": "stream",
          "name": "stdout",
          "text": [
            "['Abnormal' 'Abnormal' 'Abnormal' 'Normal' 'Abnormal' 'Abnormal'\n",
            " 'Abnormal' 'Normal' 'Normal' 'Abnormal' 'Abnormal' 'Abnormal' 'Abnormal'\n",
            " 'Abnormal' 'Normal' 'Abnormal' 'Abnormal' 'Abnormal' 'Normal' 'Abnormal'\n",
            " 'Abnormal' 'Abnormal' 'Abnormal' 'Abnormal' 'Abnormal' 'Abnormal'\n",
            " 'Abnormal' 'Normal' 'Normal' 'Abnormal' 'Abnormal' 'Abnormal' 'Abnormal'\n",
            " 'Abnormal' 'Normal' 'Abnormal' 'Normal' 'Normal' 'Abnormal' 'Normal'\n",
            " 'Normal' 'Normal' 'Abnormal' 'Abnormal' 'Abnormal' 'Normal' 'Abnormal'\n",
            " 'Abnormal' 'Abnormal' 'Abnormal' 'Abnormal' 'Abnormal' 'Normal'\n",
            " 'Abnormal' 'Normal' 'Normal' 'Abnormal' 'Abnormal' 'Abnormal' 'Abnormal'\n",
            " 'Normal' 'Abnormal' 'Abnormal' 'Abnormal' 'Abnormal' 'Abnormal' 'Normal'\n",
            " 'Abnormal' 'Abnormal' 'Normal' 'Abnormal' 'Abnormal' 'Abnormal'\n",
            " 'Abnormal' 'Abnormal' 'Abnormal' 'Abnormal' 'Abnormal' 'Abnormal'\n",
            " 'Normal' 'Normal' 'Normal' 'Abnormal' 'Normal' 'Abnormal' 'Abnormal'\n",
            " 'Abnormal' 'Abnormal' 'Abnormal' 'Abnormal' 'Normal' 'Abnormal'\n",
            " 'Abnormal' 'Abnormal' 'Abnormal' 'Normal' 'Abnormal' 'Abnormal'\n",
            " 'Abnormal' 'Abnormal' 'Normal' 'Abnormal' 'Abnormal' 'Abnormal'\n",
            " 'Abnormal' 'Normal' 'Abnormal' 'Normal' 'Abnormal' 'Abnormal' 'Abnormal'\n",
            " 'Abnormal' 'Abnormal' 'Normal' 'Normal' 'Abnormal' 'Abnormal' 'Abnormal'\n",
            " 'Abnormal' 'Normal' 'Normal' 'Abnormal' 'Normal' 'Abnormal' 'Abnormal'\n",
            " 'Normal' 'Abnormal' 'Abnormal' 'Abnormal' 'Normal' 'Abnormal' 'Abnormal'\n",
            " 'Abnormal' 'Normal' 'Abnormal' 'Abnormal' 'Abnormal' 'Normal' 'Abnormal'\n",
            " 'Abnormal' 'Abnormal' 'Normal' 'Abnormal' 'Abnormal' 'Normal' 'Abnormal'\n",
            " 'Normal' 'Abnormal' 'Abnormal' 'Normal' 'Abnormal' 'Normal' 'Abnormal'\n",
            " 'Abnormal' 'Normal' 'Normal' 'Abnormal' 'Normal' 'Normal' 'Abnormal'\n",
            " 'Abnormal' 'Normal' 'Normal' 'Abnormal' 'Abnormal' 'Abnormal' 'Normal'\n",
            " 'Normal' 'Abnormal' 'Abnormal' 'Abnormal' 'Abnormal' 'Normal' 'Abnormal'\n",
            " 'Normal' 'Abnormal' 'Abnormal' 'Abnormal' 'Normal' 'Abnormal' 'Normal'\n",
            " 'Abnormal' 'Abnormal' 'Abnormal' 'Abnormal' 'Abnormal' 'Abnormal'\n",
            " 'Normal' 'Abnormal' 'Normal' 'Abnormal' 'Abnormal' 'Abnormal' 'Abnormal'\n",
            " 'Abnormal' 'Normal' 'Abnormal' 'Abnormal' 'Abnormal' 'Abnormal'\n",
            " 'Abnormal' 'Abnormal' 'Abnormal' 'Abnormal' 'Normal' 'Abnormal'\n",
            " 'Abnormal' 'Normal' 'Normal' 'Abnormal' 'Abnormal' 'Normal' 'Abnormal'\n",
            " 'Normal' 'Abnormal' 'Abnormal' 'Abnormal' 'Normal' 'Normal' 'Abnormal'\n",
            " 'Abnormal' 'Normal' 'Abnormal' 'Abnormal' 'Abnormal' 'Abnormal' 'Normal'\n",
            " 'Normal' 'Normal' 'Abnormal' 'Normal' 'Abnormal' 'Normal' 'Normal'\n",
            " 'Abnormal' 'Abnormal' 'Normal' 'Abnormal' 'Abnormal' 'Abnormal'\n",
            " 'Abnormal' 'Normal' 'Normal' 'Abnormal' 'Abnormal' 'Abnormal' 'Normal'\n",
            " 'Abnormal']\n"
          ]
        }
      ],
      "source": [
        "# Validación y obtención de las predicciones del modelo.\n",
        "# en \"cv=KFold(n_splits=5)\" se hace el cross-validation INTERNO!!\n",
        "# el comando \"cross_val_predict\" nos permite extraer directamente las predicciones de las 5 bolsas de validación\n",
        "y_pred = cross_val_predict(alg, X_train, y_train, cv = KFold(n_splits=5, shuffle=True, random_state=42))\n",
        "print(y_pred)"
      ]
    },
    {
      "cell_type": "code",
      "execution_count": 65,
      "metadata": {
        "id": "NYUH2fZqu_0P",
        "colab": {
          "base_uri": "https://localhost:8080/"
        },
        "outputId": "35d9b6c3-b10a-4125-8daa-dfb77c2cd201"
      },
      "outputs": [
        {
          "output_type": "stream",
          "name": "stdout",
          "text": [
            "Exactitud: 0.774\n",
            "Precisión: 0.671\n",
            "Sensibilidad: 0.622\n",
            "F1-score: 0.646\n"
          ]
        }
      ],
      "source": [
        "# Presentación de los resultados de la evaluación.\n",
        "print(\"Exactitud: %.3f\" % (metrics.accuracy_score(y_train, y_pred))) # accuracy\n",
        "print(\"Precisión: %.3f\" % (metrics.precision_score(y_train, y_pred, labels=['Normal'], average=\"micro\"))) # precision\n",
        "print(\"Sensibilidad: %.3f\" % (metrics.recall_score(y_train, y_pred, labels=['Normal'], average=\"micro\"))) # sensibilidad\n",
        "print(\"F1-score: %.3f\" % (metrics.f1_score(y_train, y_pred, labels=['Normal'], average=\"micro\"))) # F-score\n"
      ]
    },
    {
      "cell_type": "code",
      "execution_count": 66,
      "metadata": {
        "id": "git4Q0Ozu_0P",
        "colab": {
          "base_uri": "https://localhost:8080/"
        },
        "outputId": "1c17654f-6d39-4def-e832-4cead382ec68"
      },
      "outputs": [
        {
          "output_type": "stream",
          "name": "stdout",
          "text": [
            "Matriz de confusión:\n",
            " [[141  25]\n",
            " [ 31  51]]\n"
          ]
        }
      ],
      "source": [
        "# Extraemos la matriz de confusión\n",
        "print(\"Matriz de confusión:\\n\", metrics.confusion_matrix(y_train, y_pred))"
      ]
    },
    {
      "cell_type": "markdown",
      "source": [],
      "metadata": {
        "id": "12EoUC39vLRg"
      }
    },
    {
      "cell_type": "code",
      "execution_count": 67,
      "metadata": {
        "id": "m-bfYkrLu_0P",
        "colab": {
          "base_uri": "https://localhost:8080/"
        },
        "outputId": "047c5b24-0e8c-4cb4-c1a5-fa1c49ee0d13"
      },
      "outputs": [
        {
          "output_type": "stream",
          "name": "stdout",
          "text": [
            "Tabla de métricas:\n",
            "               precision    recall  f1-score   support\n",
            "\n",
            "    Abnormal       0.82      0.85      0.83       166\n",
            "      Normal       0.67      0.62      0.65        82\n",
            "\n",
            "    accuracy                           0.77       248\n",
            "   macro avg       0.75      0.74      0.74       248\n",
            "weighted avg       0.77      0.77      0.77       248\n",
            "\n"
          ]
        }
      ],
      "source": [
        "print(\"Tabla de métricas:\\n\", metrics.classification_report(y_train, y_pred))"
      ]
    },
    {
      "cell_type": "code",
      "execution_count": 44,
      "metadata": {
        "id": "gaQ5MvCxu_0P",
        "colab": {
          "base_uri": "https://localhost:8080/"
        },
        "outputId": "03ffb9b6-0446-4520-dc42-4c840fa95e1f"
      },
      "outputs": [
        {
          "output_type": "stream",
          "name": "stdout",
          "text": [
            "Exactitud en test:  87.0968 %\n"
          ]
        }
      ],
      "source": [
        "# Una vez hemos optimizado los hiperparámetros con el conjunto de validación, utilizamos todos los datos de\n",
        "# \"train\" y \"validation\" para entrenar un modelo definitivo con esos hiperparámetros ajustados\n",
        "model = SVC(C=10, gamma='scale', kernel='rbf') # Definimos el modelo con los hiperparámetros óptimos\n",
        "model = model.fit(X_train, y_train) # Entrenamos el modelo con todos los datos de \"train\" + \"val\"\n",
        "\n",
        "# y finalmente evaluamos el test con el método \"score()\"\n",
        "test_results = model.score(X_test, y_test) # Evaluamos la exactitud del test\n",
        "print('Exactitud en test: ', np.round(test_results*100,4), '%')"
      ]
    },
    {
      "cell_type": "code",
      "execution_count": 45,
      "metadata": {
        "id": "Mb90zjZvu_0Q",
        "colab": {
          "base_uri": "https://localhost:8080/"
        },
        "outputId": "0231d2b4-9f24-47ba-a36c-438b2dc60653"
      },
      "outputs": [
        {
          "output_type": "stream",
          "name": "stdout",
          "text": [
            "              precision    recall  f1-score   support\n",
            "\n",
            "    Abnormal       0.93      0.89      0.91        44\n",
            "      Normal       0.75      0.83      0.79        18\n",
            "\n",
            "    accuracy                           0.87        62\n",
            "   macro avg       0.84      0.86      0.85        62\n",
            "weighted avg       0.88      0.87      0.87        62\n",
            "\n",
            "[[39  5]\n",
            " [ 3 15]]\n"
          ]
        }
      ],
      "source": [
        "# obtenemos las predicciones del test para extraer el resto de métricas de interés\n",
        "y_pred_test = model.predict(X_test) # Extraer predicciones\n",
        "print(metrics.classification_report(y_test, y_pred_test)) # Aplicar el método de classification_report()\n",
        "print(metrics.confusion_matrix(y_test, y_pred_test)) # Extraer la matriz de confusión"
      ]
    },
    {
      "cell_type": "code",
      "source": [],
      "metadata": {
        "id": "sBl0YGFHiep7"
      },
      "execution_count": null,
      "outputs": []
    }
  ],
  "metadata": {
    "kernelspec": {
      "display_name": "Python 3",
      "language": "python",
      "name": "python3"
    },
    "language_info": {
      "codemirror_mode": {
        "name": "ipython",
        "version": 3
      },
      "file_extension": ".py",
      "mimetype": "text/x-python",
      "name": "python",
      "nbconvert_exporter": "python",
      "pygments_lexer": "ipython3",
      "version": "3.8.5"
    },
    "colab": {
      "provenance": [],
      "include_colab_link": true
    }
  },
  "nbformat": 4,
  "nbformat_minor": 0
}