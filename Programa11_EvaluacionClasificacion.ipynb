{
  "cells": [
    {
      "cell_type": "markdown",
      "metadata": {
        "id": "view-in-github",
        "colab_type": "text"
      },
      "source": [
        "<a href=\"https://colab.research.google.com/github/JorgeZarama/Supervisado/blob/main/Programa11_EvaluacionClasificacion.ipynb\" target=\"_parent\"><img src=\"https://colab.research.google.com/assets/colab-badge.svg\" alt=\"Open In Colab\"/></a>"
      ]
    },
    {
      "cell_type": "code",
      "execution_count": 1,
      "metadata": {
        "id": "DCZ-enTPHJu9"
      },
      "outputs": [],
      "source": [
        "import numpy as np\n",
        "from sklearn import datasets\n",
        "from sklearn.dummy import DummyClassifier\n",
        "from sklearn.model_selection import cross_val_predict, cross_validate, cross_val_score\n",
        "from sklearn.model_selection import KFold\n",
        "import sklearn.metrics as metrics\n",
        "from sklearn.model_selection import train_test_split\n",
        "from sklearn import preprocessing\n",
        "from pprint import pprint\n",
        "from sklearn.svm import SVC"
      ]
    },
    {
      "cell_type": "code",
      "execution_count": 2,
      "metadata": {
        "colab": {
          "base_uri": "https://localhost:8080/"
        },
        "id": "uicsZbbxHJu-",
        "outputId": "16e553fd-6307-4cfb-b633-46bc66753fe3"
      },
      "outputs": [
        {
          "output_type": "stream",
          "name": "stdout",
          "text": [
            "(150, 4)\n"
          ]
        }
      ],
      "source": [
        "# Carga de datos.\n",
        "datos = datasets.load_iris()\n",
        "print(np.shape(datos.data))"
      ]
    },
    {
      "cell_type": "code",
      "execution_count": 3,
      "metadata": {
        "id": "wpUOxB3rHJu-"
      },
      "outputs": [],
      "source": [
        "# Extraer la matriz de datos \"X\" y la variable target \"y\"\n",
        "X = datos.data\n",
        "y = datos.target"
      ]
    },
    {
      "cell_type": "code",
      "execution_count": 4,
      "metadata": {
        "colab": {
          "base_uri": "https://localhost:8080/"
        },
        "id": "RsSFHwjWHJu-",
        "outputId": "20e504b3-0c68-46e5-d256-8e5048403db9"
      },
      "outputs": [
        {
          "output_type": "stream",
          "name": "stdout",
          "text": [
            "Train dimensions:  (120, 4)\n",
            "Test dimensions:   (30, 4)\n"
          ]
        }
      ],
      "source": [
        "# Partición EXTERNA. Test: hold-out split 80-20%.\n",
        "X_train, X_test, y_train, y_test = train_test_split(datos.data, datos.target, test_size=0.2, random_state=42)\n",
        "print('Train dimensions: ', np.shape(X_train))\n",
        "print('Test dimensions:  ', np.shape(X_test))"
      ]
    },
    {
      "cell_type": "code",
      "execution_count": 5,
      "metadata": {
        "id": "-pftUVyAHJu-"
      },
      "outputs": [],
      "source": [
        "# Estandarización de los datos de entrenamiento y test\n",
        "standardizer = preprocessing.StandardScaler()\n",
        "X_train = standardizer.fit_transform(X_train)\n",
        "X_test = standardizer.transform(X_test)"
      ]
    },
    {
      "cell_type": "code",
      "execution_count": 10,
      "metadata": {
        "id": "0qXjeBxqHJu_"
      },
      "outputs": [],
      "source": [
        "# Definimos el algoritmo\n",
        "alg = SVC(C=1, gamma='auto', kernel='rbf')"
      ]
    },
    {
      "cell_type": "code",
      "execution_count": 11,
      "metadata": {
        "colab": {
          "base_uri": "https://localhost:8080/"
        },
        "id": "zwPoAFX5HJu_",
        "outputId": "059b7bb2-a008-45cc-988f-1a901d6d53dc"
      },
      "outputs": [
        {
          "output_type": "stream",
          "name": "stdout",
          "text": [
            "array([0, 0, 1, 0, 0, 2, 1, 0, 0, 0, 2, 1, 1, 0, 0, 1, 1, 2, 1, 2, 1, 2,\n",
            "       1, 0, 2, 1, 0, 0, 0, 1, 2, 0, 0, 0, 1, 0, 1, 2, 0, 1, 2, 0, 2, 2,\n",
            "       1, 1, 2, 1, 0, 1, 2, 0, 0, 1, 2, 0, 2, 0, 0, 1, 1, 2, 2, 2, 2, 1,\n",
            "       0, 0, 1, 2, 0, 0, 0, 2, 2, 0, 2, 2, 0, 1, 1, 2, 1, 2, 0, 2, 1, 2,\n",
            "       1, 1, 1, 0, 1, 1, 0, 1, 2, 2, 0, 1, 2, 2, 0, 2, 0, 1, 2, 2, 1, 2,\n",
            "       1, 1, 2, 2, 0, 1, 1, 0, 1, 2])\n"
          ]
        }
      ],
      "source": [
        "# Cross-validation interno\n",
        "# Utilizar comando \"cross_val_predict\" para extraer directamente las predicciones de las 5 bolsas de validación\n",
        "y_pred = cross_val_predict(alg, X_train, y_train, cv = KFold(n_splits=5, shuffle=True, random_state=42))\n",
        "pprint(y_pred)"
      ]
    },
    {
      "cell_type": "code",
      "execution_count": 12,
      "metadata": {
        "colab": {
          "base_uri": "https://localhost:8080/"
        },
        "id": "6tX19ooTHJu_",
        "outputId": "6cab9980-5c9a-4eb5-a5a6-6d9b9d8b1666"
      },
      "outputs": [
        {
          "output_type": "stream",
          "name": "stdout",
          "text": [
            "Exactitud: 0.950\n",
            "Precisión: 0.950\n",
            "Sensibilidad: 0.950\n",
            "F1-score: 0.950\n"
          ]
        }
      ],
      "source": [
        "# Presentación de los resultados de la evaluación.\n",
        "print(\"Exactitud: %.3f\" % (metrics.accuracy_score(y_train, y_pred))) # accuracy\n",
        "print(\"Precisión: %.3f\" % (metrics.precision_score(y_train, y_pred, average=\"macro\"))) # precision\n",
        "print(\"Sensibilidad: %.3f\" % (metrics.recall_score(y_train, y_pred, average=\"macro\"))) # sensibilidad\n",
        "print(\"F1-score: %.3f\" % (metrics.f1_score(y_train, y_pred, average=\"macro\"))) # F-score"
      ]
    },
    {
      "cell_type": "code",
      "execution_count": 13,
      "metadata": {
        "colab": {
          "base_uri": "https://localhost:8080/"
        },
        "id": "9KkFSV0CHJu_",
        "outputId": "729dff2e-903e-4e84-ec18-f9abd021e437"
      },
      "outputs": [
        {
          "output_type": "stream",
          "name": "stdout",
          "text": [
            "Matriz de confusión:\n",
            " [[40  0  0]\n",
            " [ 0 38  3]\n",
            " [ 0  3 36]]\n"
          ]
        }
      ],
      "source": [
        "# Extraemos la matriz de confusión\n",
        "print(\"Matriz de confusión:\\n\", metrics.confusion_matrix(y_train, y_pred))"
      ]
    },
    {
      "cell_type": "code",
      "execution_count": 14,
      "metadata": {
        "colab": {
          "base_uri": "https://localhost:8080/"
        },
        "id": "OXYX8r_rHJvA",
        "outputId": "0efe5cc9-f3d2-4124-a49b-35db6864b1b1"
      },
      "outputs": [
        {
          "output_type": "stream",
          "name": "stdout",
          "text": [
            "Tabla de métricas:\n",
            "               precision    recall  f1-score   support\n",
            "\n",
            "           0       1.00      1.00      1.00        40\n",
            "           1       0.93      0.93      0.93        41\n",
            "           2       0.92      0.92      0.92        39\n",
            "\n",
            "    accuracy                           0.95       120\n",
            "   macro avg       0.95      0.95      0.95       120\n",
            "weighted avg       0.95      0.95      0.95       120\n",
            "\n"
          ]
        }
      ],
      "source": [
        "print(\"Tabla de métricas:\\n\", metrics.classification_report(y_train, y_pred))"
      ]
    },
    {
      "cell_type": "code",
      "execution_count": 15,
      "metadata": {
        "colab": {
          "base_uri": "https://localhost:8080/",
          "height": 141
        },
        "id": "asP3J_BIHJvA",
        "outputId": "5702343b-a7ab-4120-eef2-2e90b4cd29a2"
      },
      "outputs": [
        {
          "output_type": "error",
          "ename": "SyntaxError",
          "evalue": "ignored",
          "traceback": [
            "\u001b[0;36m  File \u001b[0;32m\"<ipython-input-15-e9cdb9380916>\"\u001b[0;36m, line \u001b[0;32m3\u001b[0m\n\u001b[0;31m    model = ??? # Definimos el modelo con los hiperparámetros óptimos\u001b[0m\n\u001b[0m            ^\u001b[0m\n\u001b[0;31mSyntaxError\u001b[0m\u001b[0;31m:\u001b[0m invalid syntax\n"
          ]
        }
      ],
      "source": [
        "# Una vez hemos optimizado los hiperparámetros con el conjunto de validación, utilizamos todos los datos de\n",
        "# \"train\" y \"validation\" para entrenar un modelo definitivo con esos hiperparámetros ajustados\n",
        "model = ??? # Definimos el modelo con los hiperparámetros óptimos\n",
        "model = ???# Entrenamos el modelo con todos los datos de \"train\" + \"val\"\n",
        "\n",
        "# y finalmente evaluamos el test con el método \"score()\"\n",
        "test_results = ???\n",
        "print('Exactitud en test: ', np.round(test_results*100,4), '%')"
      ]
    },
    {
      "cell_type": "code",
      "execution_count": 16,
      "metadata": {
        "colab": {
          "base_uri": "https://localhost:8080/",
          "height": 141
        },
        "id": "v2yeBxXOHJvA",
        "outputId": "91542f9f-be28-4a49-8644-2dd2031e1e8e"
      },
      "outputs": [
        {
          "output_type": "error",
          "ename": "SyntaxError",
          "evalue": "ignored",
          "traceback": [
            "\u001b[0;36m  File \u001b[0;32m\"<ipython-input-16-9656a2a5ecd3>\"\u001b[0;36m, line \u001b[0;32m2\u001b[0m\n\u001b[0;31m    y_pred_test = ??? # Extraer predicciones\u001b[0m\n\u001b[0m                  ^\u001b[0m\n\u001b[0;31mSyntaxError\u001b[0m\u001b[0;31m:\u001b[0m invalid syntax\n"
          ]
        }
      ],
      "source": [
        "# obtenemos las predicciones del test para extraer el resto de métricas de interés\n",
        "y_pred_test = ??? # Extraer predicciones\n",
        "print(???) # Aplicar el método de classification_report()\n",
        "print(???) # Extraer la matriz de confusión"
      ]
    },
    {
      "cell_type": "code",
      "source": [],
      "metadata": {
        "id": "teEDIUnxJPby"
      },
      "execution_count": 16,
      "outputs": []
    }
  ],
  "metadata": {
    "kernelspec": {
      "display_name": "Python 3",
      "language": "python",
      "name": "python3"
    },
    "language_info": {
      "codemirror_mode": {
        "name": "ipython",
        "version": 3
      },
      "file_extension": ".py",
      "mimetype": "text/x-python",
      "name": "python",
      "nbconvert_exporter": "python",
      "pygments_lexer": "ipython3",
      "version": "3.8.5"
    },
    "colab": {
      "provenance": [],
      "include_colab_link": true
    }
  },
  "nbformat": 4,
  "nbformat_minor": 0
}