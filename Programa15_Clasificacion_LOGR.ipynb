{
  "cells": [
    {
      "cell_type": "markdown",
      "metadata": {
        "id": "view-in-github",
        "colab_type": "text"
      },
      "source": [
        "<a href=\"https://colab.research.google.com/github/JorgeZarama/Supervisado/blob/main/Programa15_Clasificacion_LOGR.ipynb\" target=\"_parent\"><img src=\"https://colab.research.google.com/assets/colab-badge.svg\" alt=\"Open In Colab\"/></a>"
      ]
    },
    {
      "cell_type": "code",
      "execution_count": 11,
      "metadata": {
        "id": "GmhYYIOwnC4W"
      },
      "outputs": [],
      "source": [
        "import sklearn.metrics as metrics\n",
        "from sklearn.datasets import load_iris\n",
        "from sklearn.linear_model import LogisticRegression\n",
        "from sklearn.model_selection import cross_val_predict, cross_val_score, train_test_split, KFold\n",
        "from sklearn.feature_selection import SelectPercentile, mutual_info_classif\n",
        "from sklearn import preprocessing\n",
        "from evaluacion_funciones import *"
      ]
    },
    {
      "cell_type": "code",
      "execution_count": 13,
      "metadata": {
        "colab": {
          "base_uri": "https://localhost:8080/"
        },
        "id": "_Bhc8VxZnC4Z",
        "outputId": "c2cb2ac7-acf9-482b-f510-f8c365f199f5"
      },
      "outputs": [
        {
          "output_type": "stream",
          "name": "stdout",
          "text": [
            "(150, 4)\n"
          ]
        }
      ],
      "source": [
        "# Carga de datos.\n",
        "datos = load_iris()\n",
        "X = datos.data\n",
        "y = datos.target\n",
        "print(np.shape(X))"
      ]
    },
    {
      "cell_type": "code",
      "execution_count": 14,
      "metadata": {
        "id": "-Iz-vfRsnC4Z"
      },
      "outputs": [],
      "source": [
        "# Métricas de evaluación.\n",
        "metricas = {\n",
        "  'ACC':    metrics.accuracy_score,\n",
        "  'PREC':   lambda y_true, y_pred:\n",
        "            metrics.precision_score(y_true, y_pred, average='micro'),\n",
        "  'RECALL': lambda y_true, y_pred:\n",
        "            metrics.recall_score(y_true, y_pred, average='micro'),\n",
        "  'F1':     lambda y_true, y_pred:\n",
        "            metrics.f1_score(y_true, y_pred, average='micro')}"
      ]
    },
    {
      "cell_type": "code",
      "execution_count": 15,
      "metadata": {
        "colab": {
          "base_uri": "https://localhost:8080/"
        },
        "id": "vb2bC0d6nC4a",
        "outputId": "9b3c9b84-78d5-4f2b-c810-68649023bbaf"
      },
      "outputs": [
        {
          "output_type": "stream",
          "name": "stdout",
          "text": [
            "(120, 4)\n"
          ]
        }
      ],
      "source": [
        "# 1) Partición de datos externa\n",
        "X_training, X_testing, y_training, y_testing = train_test_split(X, y, test_size=0.2, random_state=42)\n",
        "print(np.shape(X_training))"
      ]
    },
    {
      "cell_type": "code",
      "execution_count": 16,
      "metadata": {
        "id": "0ue_5mGKnC4a"
      },
      "outputs": [],
      "source": [
        "# ------------- TRAINING ---------------- #"
      ]
    },
    {
      "cell_type": "code",
      "execution_count": 17,
      "metadata": {
        "id": "ObDSzxdNnC4b"
      },
      "outputs": [],
      "source": [
        "# 2) Extracción de características"
      ]
    },
    {
      "cell_type": "code",
      "execution_count": 18,
      "metadata": {
        "id": "-8cmjxb1nC4b"
      },
      "outputs": [],
      "source": [
        "# 3) Estandarización de los datos de entrenamiento\n",
        "standardizer = preprocessing.StandardScaler()\n",
        "X_stdr = standardizer.fit_transform(X_training)\n",
        "# print(X_stdr)"
      ]
    },
    {
      "cell_type": "code",
      "execution_count": 19,
      "metadata": {
        "colab": {
          "base_uri": "https://localhost:8080/"
        },
        "id": "EWOItqPknC4b",
        "outputId": "47fb63a8-048f-4d35-cb53-c83bf0c437e0"
      },
      "outputs": [
        {
          "output_type": "stream",
          "name": "stdout",
          "text": [
            "(120, 3)\n"
          ]
        }
      ],
      "source": [
        "# 4) Selección de atributos\n",
        "selector = SelectPercentile(score_func=mutual_info_classif, percentile=90)\n",
        "X_stdr = selector.fit_transform(X_stdr, y_training)\n",
        "print(np.shape(X_stdr))"
      ]
    },
    {
      "cell_type": "code",
      "execution_count": 20,
      "metadata": {
        "id": "SAruYODVnC4c"
      },
      "outputs": [],
      "source": [
        "# 5) Construcción del algoritmo de aprendizaje.\n",
        "algoritmos = {'LOGR': LogisticRegression(penalty='l1', solver='saga', max_iter=1000, random_state=42, multi_class='ovr')}"
      ]
    },
    {
      "cell_type": "code",
      "execution_count": 21,
      "metadata": {
        "colab": {
          "base_uri": "https://localhost:8080/"
        },
        "id": "FGNjgnqxnC4d",
        "outputId": "a11225b3-6076-4ab6-c2fc-0f241e00b316"
      },
      "outputs": [
        {
          "output_type": "stream",
          "name": "stdout",
          "text": [
            "[[40  0  0]\n",
            " [ 1 37  3]\n",
            " [ 0  4 35]]\n",
            "{'ACC': 0.9333333333333333, 'PREC': 0.9333333333333333, 'RECALL': 0.9333333333333333, 'F1': 0.9333333333333333}\n"
          ]
        }
      ],
      "source": [
        "# 5.1) Validación cruzada interna y Optimización de los hiperparámetros\n",
        "y_pred = {}\n",
        "for nombre, alg in algoritmos.items():\n",
        "    y_pred[nombre] = cross_val_predict(alg, X_stdr, y_training, cv=KFold(n_splits=10, shuffle=True, random_state=42))\n",
        "    results = evaluacion(y_training, y_pred[nombre], metricas)\n",
        "    print(metrics.confusion_matrix(y_training, y_pred[nombre]))\n",
        "    print(results)\n",
        "\n",
        "#     results = cross_val_score(alg, X_stdr, y_training, cv = KFold(n_splits=10, shuffle=True, random_state=42))\n",
        "#     print(\"Accuracy:   %0.4f +/- %0.4f\" % (results.mean(), results.std()))"
      ]
    },
    {
      "cell_type": "code",
      "execution_count": 22,
      "metadata": {
        "id": "lxJUziCAnC4d"
      },
      "outputs": [],
      "source": [
        "# 5.2) Entrenamiento del modelo definitivo\n",
        "model = algoritmos['LOGR'].fit(X_stdr, y_training)\n",
        "\n",
        "# Visualización de las fronteras de decisión\n",
        "# mapa_modelo_clasif_2d(X_stdr, y_training, model, results, nombre)"
      ]
    },
    {
      "cell_type": "code",
      "execution_count": 23,
      "metadata": {
        "id": "ks3NceYXnC4e"
      },
      "outputs": [],
      "source": [
        "# ------------- PREDICTION ---------------- #"
      ]
    },
    {
      "cell_type": "code",
      "execution_count": 24,
      "metadata": {
        "id": "ShqHCxaXnC4e"
      },
      "outputs": [],
      "source": [
        "# 6) Extracción de las características de test"
      ]
    },
    {
      "cell_type": "code",
      "execution_count": 25,
      "metadata": {
        "id": "qMg9d3IznC4e"
      },
      "outputs": [],
      "source": [
        "# 7) Estandarización de las característiacs de test\n",
        "X_test_stdr = standardizer.transform(X_testing)"
      ]
    },
    {
      "cell_type": "code",
      "execution_count": 26,
      "metadata": {
        "id": "QqfXbUjpnC4f"
      },
      "outputs": [],
      "source": [
        "# 8) Selección de los atributos de test\n",
        "X_test_stdr = selector.transform(X_test_stdr)"
      ]
    },
    {
      "cell_type": "code",
      "execution_count": 27,
      "metadata": {
        "colab": {
          "base_uri": "https://localhost:8080/"
        },
        "id": "FaOmvznnnC4f",
        "outputId": "f0defdda-8342-475a-c11e-b444734f9b31"
      },
      "outputs": [
        {
          "output_type": "stream",
          "name": "stdout",
          "text": [
            "[1 0 2 1 1 0 1 2 1 1 2 0 0 0 0 1 2 1 1 2 0 2 0 2 2 2 2 2 0 0]\n"
          ]
        }
      ],
      "source": [
        "# 9) Predicción del conjunto de test\n",
        "y_pred_test = model.predict(X_test_stdr)\n",
        "print(y_pred_test)"
      ]
    },
    {
      "cell_type": "code",
      "execution_count": 28,
      "metadata": {
        "colab": {
          "base_uri": "https://localhost:8080/"
        },
        "id": "WY7zSs-NnC4f",
        "outputId": "1943f3d3-3bf5-42af-dd6b-dda9e6ffa6ed"
      },
      "outputs": [
        {
          "output_type": "stream",
          "name": "stdout",
          "text": [
            "{'ACC': 1.0, 'PREC': 1.0, 'RECALL': 1.0, 'F1': 1.0}\n",
            "[[10  0  0]\n",
            " [ 0  9  0]\n",
            " [ 0  0 11]]\n"
          ]
        }
      ],
      "source": [
        "# 10) Evaluación del modelo sobre el conjunto de test\n",
        "results = evaluacion(y_testing, y_pred_test, metricas)\n",
        "print(results)\n",
        "print(metrics.confusion_matrix(y_testing, y_pred_test))"
      ]
    },
    {
      "cell_type": "code",
      "execution_count": 29,
      "metadata": {
        "colab": {
          "base_uri": "https://localhost:8080/",
          "height": 472
        },
        "id": "mmdEux1knC4f",
        "outputId": "d6a29ebf-bfc3-415d-deca-dc961eef519e"
      },
      "outputs": [
        {
          "output_type": "display_data",
          "data": {
            "text/plain": [
              "<Figure size 640x480 with 1 Axes>"
            ],
            "image/png": "[encoded data removed]"
          },
          "metadata": {}
        }
      ],
      "source": [
        "# Ploteamos la curva ROC\n",
        "y_proba_test = model.predict_proba(X_test_stdr) # \"predict_proba\" para extraer probabilidades en vez de predicciones\n",
        "# print(y_proba_test)\n",
        "\n",
        "y_test_bin = preprocessing.label_binarize(y_testing, classes=[0,1,2]) # Usar \"label_binarize\" en el caso de problemas multiclase\n",
        "\n",
        "auc = metrics.roc_auc_score(y_testing, y_proba_test, multi_class='ovr') # Area Under the ROC curve (AUC)\n",
        "\n",
        "fpr, tpr, th = metrics.roc_curve(y_test_bin[:,1], y_proba_test[:,1])\n",
        "\n",
        "plt.plot(fpr, tpr)\n",
        "plt.xlabel('False positive rate')\n",
        "plt.ylabel('True positive rate')\n",
        "plt.title('AUC = ' + str(np.round(auc,4)))\n",
        "plt.grid()\n",
        "plt.show()"
      ]
    },
    {
      "cell_type": "code",
      "source": [],
      "metadata": {
        "id": "xEGzcHTdnJzu"
      },
      "execution_count": 29,
      "outputs": []
    }
  ],
  "metadata": {
    "kernelspec": {
      "display_name": "Python 3",
      "language": "python",
      "name": "python3"
    },
    "language_info": {
      "codemirror_mode": {
        "name": "ipython",
        "version": 3
      },
      "file_extension": ".py",
      "mimetype": "text/x-python",
      "name": "python",
      "nbconvert_exporter": "python",
      "pygments_lexer": "ipython3",
      "version": "3.8.5"
    },
    "colab": {
      "provenance": [],
      "include_colab_link": true
    }
  },
  "nbformat": 4,
  "nbformat_minor": 0
}