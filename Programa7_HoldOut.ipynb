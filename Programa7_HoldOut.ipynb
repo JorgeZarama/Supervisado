{
  "cells": [
    {
      "cell_type": "markdown",
      "metadata": {
        "id": "view-in-github",
        "colab_type": "text"
      },
      "source": [
        "<a href=\"https://colab.research.google.com/github/JorgeZarama/Supervisado/blob/main/Programa7_HoldOut.ipynb\" target=\"_parent\"><img src=\"https://colab.research.google.com/assets/colab-badge.svg\" alt=\"Open In Colab\"/></a>"
      ]
    },
    {
      "cell_type": "code",
      "execution_count": 2,
      "metadata": {
        "id": "2uPcEmvHLuFS"
      },
      "outputs": [],
      "source": [
        "import numpy as np\n",
        "from sklearn import datasets\n",
        "from sklearn.dummy import DummyClassifier\n",
        "from sklearn.model_selection import train_test_split\n",
        "from sklearn.preprocessing import StandardScaler\n",
        "import pickle\n",
        "import os"
      ]
    },
    {
      "cell_type": "code",
      "execution_count": 8,
      "metadata": {
        "colab": {
          "base_uri": "https://localhost:8080/"
        },
        "id": "Bqkb2cm1LuFT",
        "outputId": "f87fb783-655d-4513-c8c7-83461da2fb42"
      },
      "outputs": [
        {
          "output_type": "stream",
          "name": "stdout",
          "text": [
            "['setosa' 'versicolor' 'virginica']\n"
          ]
        }
      ],
      "source": [
        "# Carga de datos\n",
        "iris = datasets.load_iris()\n",
        "display(iris)\n",
        "print(iris.target_names)"
      ]
    },
    {
      "cell_type": "code",
      "execution_count": 10,
      "metadata": {
        "colab": {
          "base_uri": "https://localhost:8080/"
        },
        "id": "ckiWuFU6LuFT",
        "outputId": "abff3474-76f0-47f0-d6ea-60d58c4661ea"
      },
      "outputs": [
        {
          "output_type": "stream",
          "name": "stdout",
          "text": [
            "Tabla de datos: 150 instancias y 4 atributos\n",
            "Valores de la clase: {0, 1, 2}\n"
          ]
        }
      ],
      "source": [
        "# Mostrar características de la tabla de datos.\n",
        "print(\"Tabla de datos: %d instancias y %d atributos\" % (iris.data.shape[0], iris.data.shape[1]))\n",
        "print(\"Valores de la clase:\", set(iris.target))\n",
        "\n",
        "# Cuantificamos el número de instancias que contiene el dataset por clase\n",
        "valores, ocurrencias = np.unique(iris.target, return_counts=True)\n",
        "#print(valores, ocurrencias)\n",
        "#print(iris.data)"
      ]
    },
    {
      "cell_type": "code",
      "execution_count": 13,
      "metadata": {
        "colab": {
          "base_uri": "https://localhost:8080/"
        },
        "id": "WSFZ-F7MLuFU",
        "outputId": "6394b8a8-9a0f-421c-e971-c8a802126db4"
      },
      "outputs": [
        {
          "output_type": "stream",
          "name": "stdout",
          "text": [
            "Test:  clases: [0 1 2]  ocurrencias:  [10  9 11]\n"
          ]
        }
      ],
      "source": [
        "# Test: hold-out split 80-20%. # Partición externa\n",
        "# particionar mi conjunto de datos\n",
        "#le paso los atributos y las etiquetas\n",
        "#dejar la misma semilla para que las particiones sean las misma\n",
        "X_training, X_test, y_training, y_test = train_test_split(iris.data, iris.target, test_size=0.2, random_state=42)\n",
        "\n",
        "valores_test, ocur_test = np.unique(y_test, return_counts=True)\n",
        "print('Test: ', 'clases:', valores_test, ' ocurrencias: ', ocur_test)"
      ]
    },
    {
      "cell_type": "code",
      "execution_count": 15,
      "metadata": {
        "colab": {
          "base_uri": "https://localhost:8080/",
          "height": 1000
        },
        "id": "hFW7VJ6CLuFU",
        "outputId": "2cba5ace-7714-4c11-8c15-c8cc6e73820a"
      },
      "outputs": [
        {
          "output_type": "display_data",
          "data": {
            "text/plain": [
              "array([[-1.47393679,  1.20365799, -1.56253475, -1.31260282],\n",
              "       [-0.13307079,  2.99237573, -1.27600637, -1.04563275],\n",
              "       [ 1.08589829,  0.08570939,  0.38585821,  0.28921757],\n",
              "       [-1.23014297,  0.75647855, -1.2187007 , -1.31260282],\n",
              "       [-1.7177306 ,  0.30929911, -1.39061772, -1.31260282],\n",
              "       [ 0.59831066, -1.25582892,  0.72969227,  0.95664273],\n",
              "       [ 0.72020757,  0.30929911,  0.44316389,  0.4227026 ],\n",
              "       [-0.74255534,  0.98006827, -1.27600637, -1.31260282],\n",
              "       [-0.98634915,  1.20365799, -1.33331205, -1.31260282],\n",
              "       [-0.74255534,  2.32160658, -1.27600637, -1.44608785],\n",
              "       [-0.01117388, -0.80864948,  0.78699794,  0.95664273],\n",
              "       [ 0.23261993,  0.75647855,  0.44316389,  0.55618763],\n",
              "       [ 1.08589829,  0.08570939,  0.55777524,  0.4227026 ],\n",
              "       [-0.49876152,  1.87442714, -1.39061772, -1.04563275],\n",
              "       [-0.49876152,  1.4272477 , -1.27600637, -1.31260282],\n",
              "       [-0.37686461, -1.47941864, -0.01528151, -0.24472256],\n",
              "       [ 0.59831066, -0.58505976,  0.78699794,  0.4227026 ],\n",
              "       [ 0.72020757,  0.08570939,  1.01622064,  0.8231577 ],\n",
              "       [ 0.96400139, -0.13788033,  0.38585821,  0.28921757],\n",
              "       [ 1.69538284,  1.20365799,  1.3600547 ,  1.75755292],\n",
              "       [-0.13307079, -0.36147005,  0.27124686,  0.15573254],\n",
              "       [ 2.18297047, -0.13788033,  1.64658307,  1.22361279],\n",
              "       [-0.2549677 , -0.13788033,  0.44316389,  0.4227026 ],\n",
              "       [-0.86445224,  0.98006827, -1.33331205, -1.31260282],\n",
              "       [ 2.30486738, -0.58505976,  1.70388875,  1.09012776],\n",
              "       [-0.01117388, -0.80864948,  0.21394119, -0.24472256],\n",
              "       [-0.74255534,  0.75647855, -1.33331205, -1.31260282],\n",
              "       [-0.98634915,  0.98006827, -1.39061772, -1.17911778],\n",
              "       [-0.86445224,  1.65083742, -1.04678367, -1.04563275],\n",
              "       [-0.98634915, -2.37377751, -0.12989286, -0.24472256],\n",
              "       [ 0.59831066, -0.80864948,  0.67238659,  0.8231577 ],\n",
              "       [-1.23014297,  0.75647855, -1.04678367, -1.31260282],\n",
              "       [-0.98634915, -0.13788033, -1.2187007 , -1.31260282],\n",
              "       [-0.86445224,  0.53288883, -1.16139502, -0.91214772],\n",
              "       [-0.2549677 , -0.80864948,  0.27124686,  0.15573254],\n",
              "       [-0.86445224,  0.75647855, -1.27600637, -1.31260282],\n",
              "       [-0.13307079, -0.13788033,  0.27124686,  0.02224751],\n",
              "       [ 2.30486738,  1.65083742,  1.70388875,  1.35709783],\n",
              "       [-1.47393679,  0.30929911, -1.33331205, -1.31260282],\n",
              "       [ 0.47641375, -0.36147005,  0.32855254,  0.15573254],\n",
              "       [-0.13307079, -1.25582892,  0.72969227,  1.09012776],\n",
              "       [-0.37686461,  2.5451963 , -1.33331205, -1.31260282],\n",
              "       [ 0.23261993, -0.13788033,  0.61508092,  0.8231577 ],\n",
              "       [-0.01117388, -0.80864948,  0.78699794,  0.95664273],\n",
              "       [ 0.23261993, -1.92659808,  0.15663551, -0.24472256],\n",
              "       [-0.49876152, -0.13788033,  0.44316389,  0.4227026 ],\n",
              "       [ 0.47641375,  0.75647855,  0.95891497,  1.49058286],\n",
              "       [-0.37686461, -1.70300836,  0.15663551,  0.15573254],\n",
              "       [-0.49876152,  1.87442714, -1.16139502, -1.04563275],\n",
              "       [-0.98634915, -1.70300836, -0.24450422, -0.24472256],\n",
              "       [ 0.72020757, -0.80864948,  0.90160929,  0.95664273],\n",
              "       [-0.98634915,  0.53288883, -1.33331205, -1.31260282],\n",
              "       [-0.98634915,  0.30929911, -1.4479234 , -1.31260282],\n",
              "       [-0.37686461, -1.47941864,  0.04202416, -0.11123753],\n",
              "       [ 1.08589829, -0.13788033,  0.72969227,  0.68967267],\n",
              "       [-1.10824606,  0.08570939, -1.27600637, -1.31260282],\n",
              "       [-0.01117388, -0.58505976,  0.78699794,  1.62406789],\n",
              "       [-0.98634915,  0.75647855, -1.27600637, -1.31260282],\n",
              "       [-0.98634915,  0.98006827, -1.2187007 , -0.77866269],\n",
              "       [ 0.11072303,  0.30929911,  0.61508092,  0.8231577 ],\n",
              "       [-0.86445224, -1.25582892, -0.41642124, -0.11123753],\n",
              "       [ 1.32969211,  0.30929911,  1.130832  ,  1.49058286],\n",
              "       [ 0.23261993, -0.80864948,  0.78699794,  0.55618763],\n",
              "       [ 0.35451684, -1.0322392 ,  1.07352632,  0.28921757],\n",
              "       [ 2.30486738, -0.13788033,  1.3600547 ,  1.49058286],\n",
              "       [-0.37686461, -1.25582892,  0.15663551,  0.15573254],\n",
              "       [-1.7177306 , -0.36147005, -1.33331205, -1.31260282],\n",
              "       [-1.83962751, -0.13788033, -1.50522907, -1.44608785],\n",
              "       [ 0.23261993, -1.92659808,  0.72969227,  0.4227026 ],\n",
              "       [ 1.69538284,  0.30929911,  1.30274902,  0.8231577 ],\n",
              "       [-1.47393679,  0.08570939, -1.27600637, -1.31260282],\n",
              "       [-0.86445224,  0.98006827, -1.33331205, -1.17911778],\n",
              "       [-1.7177306 , -0.13788033, -1.39061772, -1.31260282],\n",
              "       [ 0.59831066, -1.25582892,  0.67238659,  0.4227026 ],\n",
              "       [ 0.59831066,  0.75647855,  1.07352632,  1.62406789],\n",
              "       [-1.47393679,  0.75647855, -1.33331205, -1.17911778],\n",
              "       [ 1.2077952 , -0.13788033,  1.01622064,  1.22361279],\n",
              "       [ 0.59831066,  0.53288883,  1.30274902,  1.75755292],\n",
              "       [-1.35203988,  0.30929911, -1.39061772, -1.31260282],\n",
              "       [ 0.35451684, -0.36147005,  0.55777524,  0.28921757],\n",
              "       [ 0.84210448, -0.58505976,  0.50046957,  0.4227026 ],\n",
              "       [ 0.47641375, -0.58505976,  0.61508092,  0.8231577 ],\n",
              "       [ 1.45158902,  0.30929911,  0.55777524,  0.28921757],\n",
              "       [ 0.72020757,  0.30929911,  0.90160929,  1.49058286],\n",
              "       [-0.86445224,  1.65083742, -1.2187007 , -1.31260282],\n",
              "       [ 1.32969211,  0.08570939,  0.95891497,  1.22361279],\n",
              "       [ 0.11072303, -0.13788033,  0.27124686,  0.4227026 ],\n",
              "       [ 0.84210448, -0.13788033,  0.84430362,  1.09012776],\n",
              "       [-0.13307079, -1.0322392 , -0.12989286, -0.24472256],\n",
              "       [-0.74255534, -0.80864948,  0.09932984,  0.28921757],\n",
              "       [ 0.35451684, -0.13788033,  0.50046957,  0.28921757],\n",
              "       [-1.5958337 , -1.70300836, -1.39061772, -1.17911778],\n",
              "       [ 0.96400139, -0.36147005,  0.50046957,  0.15573254],\n",
              "       [-0.37686461, -1.0322392 ,  0.38585821,  0.02224751],\n",
              "       [-0.62065843,  1.4272477 , -1.27600637, -1.31260282],\n",
              "       [-0.2549677 , -0.13788033,  0.21394119,  0.15573254],\n",
              "       [ 1.81727975, -0.36147005,  1.47466605,  0.8231577 ],\n",
              "       [ 1.08589829,  0.53288883,  1.130832  ,  1.22361279],\n",
              "       [-0.86445224,  1.4272477 , -1.27600637, -1.04563275],\n",
              "       [-1.10824606, -1.47941864, -0.24450422, -0.24472256],\n",
              "       [ 1.08589829,  0.53288883,  1.130832  ,  1.75755292],\n",
              "       [ 1.69538284, -0.13788033,  1.18813767,  0.55618763],\n",
              "       [-1.10824606,  1.20365799, -1.33331205, -1.44608785],\n",
              "       [ 1.08589829,  0.08570939,  1.07352632,  1.62406789],\n",
              "       [-1.10824606, -0.13788033, -1.33331205, -1.31260282],\n",
              "       [ 1.32969211,  0.08570939,  0.67238659,  0.4227026 ],\n",
              "       [ 1.93917666, -0.58505976,  1.3600547 ,  0.95664273],\n",
              "       [ 0.59831066, -0.36147005,  1.07352632,  0.8231577 ],\n",
              "       [-0.13307079, -0.58505976,  0.21394119,  0.15573254],\n",
              "       [ 0.84210448, -0.13788033,  1.01622064,  0.8231577 ],\n",
              "       [ 0.59831066, -1.70300836,  0.38585821,  0.15573254],\n",
              "       [ 0.72020757, -0.36147005,  0.32855254,  0.15573254],\n",
              "       [-0.2549677 , -0.58505976,  0.67238659,  1.09012776],\n",
              "       [ 0.11072303, -0.13788033,  0.78699794,  0.8231577 ],\n",
              "       [-0.49876152,  0.75647855, -1.16139502, -1.31260282],\n",
              "       [ 0.35451684, -0.58505976,  0.15663551,  0.15573254],\n",
              "       [-1.10824606, -1.25582892,  0.44316389,  0.68967267],\n",
              "       [-0.01117388,  2.09801686, -1.4479234 , -1.31260282],\n",
              "       [-0.01117388, -1.0322392 ,  0.15663551,  0.02224751],\n",
              "       [ 1.57348593, -0.13788033,  1.24544335,  1.22361279]])"
            ]
          },
          "metadata": {}
        }
      ],
      "source": [
        "# Estandarizar las características de entrenamiento y de test\n",
        "#elegimos estadarizador\n",
        "standardizer = StandardScaler()\n",
        "X_training = standardizer.fit_transform(X_training)\n",
        "X_test = standardizer.transform(X_test)\n",
        "display(X_training)"
      ]
    },
    {
      "cell_type": "code",
      "execution_count": 16,
      "metadata": {
        "colab": {
          "base_uri": "https://localhost:8080/"
        },
        "id": "BDsOASSpLuFU",
        "outputId": "a68d6e81-3171-40e2-8300-fef0679f7b00"
      },
      "outputs": [
        {
          "output_type": "stream",
          "name": "stdout",
          "text": [
            "Entrenamiento:   clases: [0 1 2]   ocurrencias: [32 30 34]\n",
            "Validation:      clases: [0 1 2]   ocurrencias: [ 8 11  5]\n"
          ]
        }
      ],
      "source": [
        "# Validación: hold-out split 80-20%. # Partición interna\n",
        "X_train, X_val, y_train, y_val = train_test_split(X_training, y_training, test_size=0.2, random_state=42)\n",
        "\n",
        "valores_train, ocur_train = np.unique(y_train, return_counts=True)\n",
        "print('Entrenamiento: ', ' clases:', valores_train, '  ocurrencias:', ocur_train)\n",
        "\n",
        "valores_val, ocur_val = np.unique(y_val, return_counts=True)\n",
        "print('Validation:    ', ' clases:', valores_val, '  ocurrencias:', ocur_val)"
      ]
    },
    {
      "cell_type": "code",
      "execution_count": 17,
      "metadata": {
        "id": "QWfzkiYgLuFU"
      },
      "outputs": [],
      "source": [
        "# Construcción del objeto que contiene el algoritmo de aprendizaje.\n",
        "# Algoritmo academico muy malo\n",
        "clf = DummyClassifier(strategy='prior', random_state=42)"
      ]
    },
    {
      "cell_type": "code",
      "execution_count": 18,
      "metadata": {
        "id": "16PnV6P_LuFU"
      },
      "outputs": [],
      "source": [
        "# Entrenamiento del algoritmo de aprendizaje.\n",
        "clf = clf.fit(X_train, y_train)"
      ]
    },
    {
      "cell_type": "code",
      "execution_count": 19,
      "metadata": {
        "colab": {
          "base_uri": "https://localhost:8080/"
        },
        "id": "O5KGZGWtLuFV",
        "outputId": "ac0fea40-5ca1-4756-cc6d-74f18b95db06"
      },
      "outputs": [
        {
          "output_type": "stream",
          "name": "stdout",
          "text": [
            "Exactitud en validación:  0.20833333333333334\n"
          ]
        }
      ],
      "source": [
        "# Evaluación del algoritmo de aprendizaje con el método \"score\" que devuelve directamente la métrica de 'accuracy'\n",
        "val_accuracy = clf.score(X_val, y_val)\n",
        "print(\"Exactitud en validación: \", val_accuracy)\n"
      ]
    },
    {
      "cell_type": "code",
      "execution_count": 21,
      "metadata": {
        "colab": {
          "base_uri": "https://localhost:8080/"
        },
        "id": "8fwKR8vtLuFV",
        "outputId": "c5a9ae17-848b-4e2a-e846-35dbad496ca0"
      },
      "outputs": [
        {
          "output_type": "stream",
          "name": "stdout",
          "text": [
            "Exactitud en test:  0.36666666666666664\n"
          ]
        }
      ],
      "source": [
        "# Lo mismo para el conjunto de test\n",
        "test_accuracy = clf.score(X_test, y_test)\n",
        "print(\"Exactitud en test: \", test_accuracy)"
      ]
    },
    {
      "cell_type": "code",
      "execution_count": 24,
      "metadata": {
        "colab": {
          "base_uri": "https://localhost:8080/"
        },
        "id": "RsYjcUJdLuFV",
        "outputId": "968c78ec-8668-42b8-9e9b-c7eb7f5fe674"
      },
      "outputs": [
        {
          "output_type": "stream",
          "name": "stdout",
          "text": [
            "Predicciones de validación  [1 1 0 0 0 2 1 2 2 2 1 1 1 1 1 0 2 0 1 0 1 1 0 0]\n",
            "Etiquetas reales validación [1 1 0 0 0 2 1 2 2 2 1 1 1 1 1 0 2 0 1 0 1 1 0 0]\n",
            "\n",
            "Predicciones de test  [1 1 0 0 0 2 1 2 2 2 1 1 1 1 1 0 2 0 1 0 1 1 0 0]\n",
            "Etiquetas reales test [1 1 0 0 0 2 1 2 2 2 1 1 1 1 1 0 2 0 1 0 1 1 0 0]\n"
          ]
        }
      ],
      "source": [
        "# Obtenemos las predicciones (no las métricas) sobre conjunto de validación y de test\n",
        "y_pred_val = clf.predict(X_val)\n",
        "print('Predicciones de validación ', y_pred_val)\n",
        "print('Etiquetas reales validación', y_val)\n",
        "\n",
        "y_pred_test = clf.predict(X_test)\n",
        "print('\\nPredicciones de test ', y_pred_val)\n",
        "print('Etiquetas reales test', y_val)"
      ]
    },
    {
      "cell_type": "code",
      "execution_count": 29,
      "metadata": {
        "colab": {
          "base_uri": "https://localhost:8080/"
        },
        "id": "JlAFg8OCLuFV",
        "outputId": "5e092d22-fdb9-49a6-9dd2-377b5406395b"
      },
      "outputs": [
        {
          "output_type": "stream",
          "name": "stdout",
          "text": [
            "Exactitud en validación  100.0 %\n"
          ]
        }
      ],
      "source": [
        "# Aplicamos un ejemplo con un clasificador más complejo que el \"dummyclassifier\"\n",
        "from sklearn.svm import SVC\n",
        "\n",
        "# Definimos algoritmo\n",
        "clf = SVC(C=0.1, gamma='auto')\n",
        "\n",
        "# Entrenamos el algortimo\n",
        "clf = clf.fit(X_train, y_train)\n",
        "\n",
        "# Calculamos la accuracy y volvemos a parametrizar para mejorar los resultados\n",
        "val_accuracy = clf.score(X_val, y_val) # Evaluamos modelo en validación\n",
        "print('Exactitud en validación ', np.round(val_accuracy*100, 4), '%')"
      ]
    },
    {
      "cell_type": "code",
      "execution_count": 30,
      "metadata": {
        "colab": {
          "base_uri": "https://localhost:8080/"
        },
        "id": "hdU5JGIyLuFV",
        "outputId": "bd04a660-aa29-46b4-c2a2-5aa1a7210cb8"
      },
      "outputs": [
        {
          "output_type": "stream",
          "name": "stdout",
          "text": [
            "Exactitud en test  93.3333 %\n"
          ]
        }
      ],
      "source": [
        "# Calculamos la accuracy en test utilizando el mejor de los modelos anteriores\n",
        "test_accuracy = clf.score(X_test, y_test)\n",
        "print('Exactitud en test ', np.round(test_accuracy*100, 4), '%')"
      ]
    },
    {
      "cell_type": "code",
      "execution_count": 31,
      "metadata": {
        "id": "Vxe7wh1-LuFW"
      },
      "outputs": [],
      "source": [
        "# Guardar modelo\n",
        "os.makedirs('models', exist_ok=True) # Creamos una carpeta en el directorio de trabajo llamada \"models\" (si no existe)\n",
        "with open('models/model.pickle', 'wb') as fw:\n",
        "    pickle.dump(clf, fw)\n",
        "\n",
        "# Cargar modelo\n",
        "with open('models/model.pickle', 'rb') as fr:\n",
        "    pickle.load(fr)"
      ]
    },
    {
      "cell_type": "code",
      "source": [],
      "metadata": {
        "id": "DICHZLcKZwBd"
      },
      "execution_count": null,
      "outputs": []
    }
  ],
  "metadata": {
    "kernelspec": {
      "display_name": "Python 3",
      "language": "python",
      "name": "python3"
    },
    "language_info": {
      "codemirror_mode": {
        "name": "ipython",
        "version": 3
      },
      "file_extension": ".py",
      "mimetype": "text/x-python",
      "name": "python",
      "nbconvert_exporter": "python",
      "pygments_lexer": "ipython3",
      "version": "3.8.5"
    },
    "colab": {
      "provenance": [],
      "include_colab_link": true
    }
  },
  "nbformat": 4,
  "nbformat_minor": 0
}