{
  "cells": [
    {
      "cell_type": "markdown",
      "metadata": {
        "id": "view-in-github",
        "colab_type": "text"
      },
      "source": [
        "<a href=\"https://colab.research.google.com/github/JorgeZarama/Supervisado/blob/main/Programa9_ValidacionCruzada2.ipynb\" target=\"_parent\"><img src=\"https://colab.research.google.com/assets/colab-badge.svg\" alt=\"Open In Colab\"/></a>"
      ]
    },
    {
      "cell_type": "code",
      "execution_count": 57,
      "metadata": {
        "id": "NTDZjWGfbpHb"
      },
      "outputs": [],
      "source": [
        "import numpy as np\n",
        "import pandas as pd\n",
        "from sklearn.dummy import DummyClassifier\n",
        "from sklearn.model_selection import cross_val_score\n",
        "from sklearn.model_selection import KFold\n",
        "from sklearn.model_selection import train_test_split\n",
        "from sklearn import preprocessing\n",
        "from sklearn.preprocessing import StandardScaler\n"
      ]
    },
    {
      "cell_type": "code",
      "execution_count": 58,
      "metadata": {
        "colab": {
          "base_uri": "https://localhost:8080/"
        },
        "id": "PTBimz8obpHc",
        "outputId": "858975f6-3f62-454f-e610-8909a9c02638"
      },
      "outputs": [
        {
          "output_type": "stream",
          "name": "stdout",
          "text": [
            "   Culmen length  Culmen depth  Flipper length  Body mass  Especies\n",
            "0           36.7          19.3           193.0     3450.0       0.0\n",
            "1           39.3          20.6           190.0     3650.0       0.0\n",
            "2           38.9          17.8           181.0     3625.0       0.0\n",
            "3           39.2          19.6           195.0     4675.0       0.0\n",
            "4           34.1          18.1           193.0     3475.0       0.0\n"
          ]
        }
      ],
      "source": [
        "# Carga de datos.\n",
        "csv = pd.read_csv('penguins_clean.csv', sep=';')\n",
        "print(csv.head())"
      ]
    },
    {
      "cell_type": "code",
      "execution_count": 59,
      "metadata": {
        "colab": {
          "base_uri": "https://localhost:8080/"
        },
        "id": "iBeeLdcgbpHc",
        "outputId": "b70df3a1-48bd-4052-a5b0-6495af912919"
      },
      "outputs": [
        {
          "output_type": "stream",
          "name": "stdout",
          "text": [
            "[0. 0. 0. 0. 0. 0. 0. 0. 0. 0. 0. 0. 0. 0. 0. 0. 0. 0. 0. 0. 0. 0. 0. 0.\n",
            " 0. 0. 0. 0. 0. 0. 0. 0. 0. 0. 0. 0. 0. 0. 0. 0. 0. 0. 0. 0. 0. 0. 0. 0.\n",
            " 0. 0. 0. 0. 0. 0. 0. 0. 0. 0. 0. 0. 0. 0. 0. 0. 0. 0. 0. 0. 0. 0. 0. 0.\n",
            " 0. 0. 0. 0. 0. 0. 0. 0. 0. 0. 0. 0. 0. 0. 0. 0. 0. 0. 0. 0. 0. 0. 0. 0.\n",
            " 0. 0. 0. 0. 0. 0. 0. 0. 0. 0. 0. 0. 0. 0. 0. 0. 0. 0. 0. 0. 0. 0. 0. 0.\n",
            " 0. 0. 0. 0. 0. 0. 0. 0. 0. 0. 0. 0. 0. 0. 0. 0. 0. 0. 0. 0. 0. 0. 0. 0.\n",
            " 0. 0. 0. 0. 1. 1. 1. 1. 1. 1. 1. 1. 1. 1. 1. 1. 1. 1. 1. 1. 1. 1. 1. 1.\n",
            " 1. 1. 1. 1. 1. 1. 1. 1. 1. 1. 1. 1. 1. 1. 1. 1. 1. 1. 1. 1. 1. 1. 1. 1.\n",
            " 1. 1. 1. 1. 1. 1. 1. 1. 1. 1. 1. 1. 1. 1. 1. 1. 1. 1. 1. 1. 1. 1. 1. 1.\n",
            " 1. 1. 1. 1. 1. 1. 1. 1. 1. 1. 1. 1. 1. 1. 1. 1. 1. 1. 1. 1. 1. 1. 1. 1.\n",
            " 1. 1. 1. 1. 1. 1. 1. 1. 1. 1. 1. 1. 1. 1. 1. 1. 1. 1. 1. 1. 1. 1. 1. 1.\n",
            " 1. 1. 1. 1. 2. 2. 2. 2. 2. 2. 2. 2. 2. 2. 2. 2. 2. 2. 2. 2. 2. 2. 2. 2.\n",
            " 2. 2. 2. 2. 2. 2. 2. 2. 2. 2. 2. 2. 2. 2. 2. 2. 2. 2. 2. 2. 2. 2. 2. 2.\n",
            " 2. 2. 2. 2. 2. 2. 2. 2. 2. 2. 2. 2. 2. 2. 2. 2. 2. 2. 2. 2.]\n",
            "[[  36.7   19.3  193.  3450. ]\n",
            " [  39.3   20.6  190.  3650. ]\n",
            " [  38.9   17.8  181.  3625. ]\n",
            " ...\n",
            " [  46.8   16.5  189.  3650. ]\n",
            " [  45.7   17.   195.  3650. ]\n",
            " [  55.8   19.8  207.  4000. ]]\n"
          ]
        }
      ],
      "source": [
        "# Convertir dataframe en numpy array\n",
        "data = np.array(csv)\n",
        "X = data[:, :-1]\n",
        "y = data[:, -1]\n",
        "\n",
        "print(y)\n",
        "print(X)"
      ]
    },
    {
      "cell_type": "code",
      "execution_count": 60,
      "metadata": {
        "colab": {
          "base_uri": "https://localhost:8080/"
        },
        "id": "pxl_a2bRbpHd",
        "outputId": "1f98e929-87a6-4d40-9dc1-6e4f126fcadd"
      },
      "outputs": [
        {
          "output_type": "stream",
          "name": "stdout",
          "text": [
            "Tabla de datos: 332 instancias y 4 atributos\n",
            "Valores de la clase: {0.0, 1.0, 2.0}\n"
          ]
        }
      ],
      "source": [
        "# Mostrar características de la tabla de datos.\n",
        "\n",
        "print(\"Tabla de datos: %d instancias y %d atributos\" % (X.shape[0], X.shape[1]))\n",
        "print(\"Valores de la clase:\", set(y))"
      ]
    },
    {
      "cell_type": "code",
      "execution_count": 61,
      "metadata": {
        "colab": {
          "base_uri": "https://localhost:8080/"
        },
        "id": "_EsdlOrMbpHd",
        "outputId": "59009c9c-e92b-407c-ee0d-1bde29501690"
      },
      "outputs": [
        {
          "output_type": "stream",
          "name": "stdout",
          "text": [
            "Test:  clases: [0. 1. 2.]  ocurrencias:  [33 22 12]\n",
            "Entrenamiento:   clases: [0. 1. 2.]   ocurrencias: [115  98  52]\n"
          ]
        }
      ],
      "source": [
        "# Test: hold-out split 80-20%. PARTICIÓN EXTERNA\n",
        "X_train, X_test, y_train, y_test = train_test_split(X, y, test_size=0.2, random_state=42)\n",
        "\n",
        "valores_test, ocur_test = np.unique(y_test, return_counts=True)\n",
        "print('Test: ', 'clases:', valores_test, ' ocurrencias: ', ocur_test)\n",
        "\n",
        "valores_train, ocur_train = np.unique(y_train, return_counts=True)\n",
        "print('Entrenamiento: ', ' clases:', valores_train, '  ocurrencias:', ocur_train)"
      ]
    },
    {
      "cell_type": "code",
      "execution_count": 62,
      "metadata": {
        "id": "d9vjeToTbpHd"
      },
      "outputs": [],
      "source": [
        "# Estandarizar las características de entrenamiento y de test\n",
        "standardizer = StandardScaler()\n",
        "X_train = standardizer.fit_transform(X_train)\n",
        "X_test = standardizer.transform(X_test)"
      ]
    },
    {
      "cell_type": "code",
      "execution_count": 63,
      "metadata": {
        "colab": {
          "base_uri": "https://localhost:8080/"
        },
        "id": "B1kCg6ajbpHd",
        "outputId": "958159da-7199-4493-c211-ccdafe7a20ce"
      },
      "outputs": [
        {
          "output_type": "stream",
          "name": "stdout",
          "text": [
            "Resultados por bolsa:  [0.94339623 0.98113208 0.98113208 1.         0.96226415]\n",
            "Accuracy (media +/- desv.): 0.9736 +/- 0.0192\n"
          ]
        }
      ],
      "source": [
        "# Hacemos el cross-validation interno para seleccionar los mejores hiperparámetros\n",
        "from sklearn.svm import SVC\n",
        "svc = SVC(C=10, gamma='scale', kernel='rbf')\n",
        "results = cross_val_score(svc, X_train, y_train, cv = KFold(n_splits=5, shuffle=True, random_state=42))\n",
        "print(\"Resultados por bolsa: \", results)\n",
        "print(\"Accuracy (media +/- desv.): %0.4f +/- %0.4f\" % (results.mean(), results.std()))"
      ]
    },
    {
      "cell_type": "code",
      "execution_count": 64,
      "metadata": {
        "id": "6i7giY3ubpHd"
      },
      "outputs": [],
      "source": [
        "# Una vez entrenado y validado el modelo para seleccionar los mejores hyperparameters, utilizamos todos los datos de\n",
        "# \"train\" y \"val\" para entrenar el modelo definitivo\n",
        "\n",
        "svc = SVC(C=10, gamma='scale', kernel='rbf') #pongo el mejor que he conseguido\n",
        "svc = svc.fit(X_train, y_train)\n"
      ]
    },
    {
      "cell_type": "code",
      "execution_count": 65,
      "metadata": {
        "colab": {
          "base_uri": "https://localhost:8080/"
        },
        "id": "bzjuy4X4bpHe",
        "outputId": "366bb565-4acd-42de-b6f5-e239acf4c88d"
      },
      "outputs": [
        {
          "output_type": "stream",
          "name": "stdout",
          "text": [
            "Exactitud en test:  98.50746268656717 %\n"
          ]
        }
      ],
      "source": [
        "# Calcular la accuracy del conjunto de test\n",
        "test_results = svc.score(X_test, y_test)\n",
        "print('Exactitud en test: ', test_results*100, '%')"
      ]
    },
    {
      "cell_type": "code",
      "execution_count": 66,
      "metadata": {
        "colab": {
          "base_uri": "https://localhost:8080/"
        },
        "id": "ZI5P4x7IbpHe",
        "outputId": "f0605118-0b2a-4c5d-fc83-a69cd3035db9"
      },
      "outputs": [
        {
          "output_type": "stream",
          "name": "stdout",
          "text": [
            "Predicciones:      [0. 2. 0. 1. 0. 1. 2. 1. 1. 1. 0. 0. 2. 0. 2. 0. 0. 0. 0. 1. 0. 0. 2. 1.\n",
            " 0. 0. 1. 2. 1. 2. 1. 2. 0. 0. 1. 1. 1. 2. 0. 0. 0. 0. 1. 1. 0. 0. 1. 0.\n",
            " 0. 2. 0. 1. 1. 0. 0. 1. 0. 0. 0. 1. 2. 2. 1. 0. 1. 1. 0.]\n",
            "Etiquetas reales:  [0. 2. 0. 1. 0. 1. 2. 1. 1. 1. 0. 0. 2. 0. 2. 0. 0. 0. 0. 1. 0. 0. 2. 1.\n",
            " 0. 0. 1. 2. 1. 2. 1. 2. 0. 0. 1. 1. 1. 2. 0. 0. 0. 0. 1. 1. 0. 0. 1. 0.\n",
            " 0. 2. 0. 1. 1. 0. 0. 1. 0. 0. 0. 1. 2. 2. 1. 0. 0. 1. 0.]\n"
          ]
        }
      ],
      "source": [
        "# Extraer las predicciones, en lugar de directamente la accuracy\n",
        "y_pred = svc.predict(X_test)\n",
        "print('Predicciones:     ', y_pred)\n",
        "print('Etiquetas reales: ', y_test)"
      ]
    },
    {
      "cell_type": "code",
      "source": [
        "Culmenlength = 43.5\n",
        "Culmendepth = 18.2\n",
        "Flipperlength = 202.0\n",
        "Bodymass = 3400.0\n",
        "\n",
        "gt_labels = {0: 'Adelie', 1: 'Gentoo', 2: 'Chinstrap'}\n",
        "sample_test = [[Culmenlength,Culmendepth,Flipperlength,Bodymass]]\n",
        "sample_test = standardizer.transform(sample_test)"
      ],
      "metadata": {
        "id": "pFuTB-Kql3iH"
      },
      "execution_count": 78,
      "outputs": []
    },
    {
      "cell_type": "code",
      "source": [
        "pred = svc.predict(sample_test)\n",
        "print(pred)\n",
        "print(\"predicción: \" + gt_labels[pred[0]])\n",
        "\n"
      ],
      "metadata": {
        "colab": {
          "base_uri": "https://localhost:8080/"
        },
        "id": "w0cpuiG3mfoM",
        "outputId": "6b6b12d7-8f47-45a5-cefa-a1581938c72a"
      },
      "execution_count": 79,
      "outputs": [
        {
          "output_type": "stream",
          "name": "stdout",
          "text": [
            "[0.]\n",
            "predicción: Adelie\n"
          ]
        }
      ]
    },
    {
      "cell_type": "code",
      "source": [],
      "metadata": {
        "id": "Aa2H_nKgnExW"
      },
      "execution_count": 68,
      "outputs": []
    }
  ],
  "metadata": {
    "kernelspec": {
      "display_name": "Python 3",
      "language": "python",
      "name": "python3"
    },
    "language_info": {
      "codemirror_mode": {
        "name": "ipython",
        "version": 3
      },
      "file_extension": ".py",
      "mimetype": "text/x-python",
      "name": "python",
      "nbconvert_exporter": "python",
      "pygments_lexer": "ipython3",
      "version": "3.8.5"
    },
    "colab": {
      "provenance": [],
      "include_colab_link": true
    }
  },
  "nbformat": 4,
  "nbformat_minor": 0
}