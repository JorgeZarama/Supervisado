{
  "cells": [
    {
      "cell_type": "markdown",
      "metadata": {
        "id": "view-in-github",
        "colab_type": "text"
      },
      "source": [
        "<a href=\"https://colab.research.google.com/github/JorgeZarama/Supervisado/blob/main/Programa4_Ausentes.ipynb\" target=\"_parent\"><img src=\"https://colab.research.google.com/assets/colab-badge.svg\" alt=\"Open In Colab\"/></a>"
      ]
    },
    {
      "cell_type": "code",
      "execution_count": 2,
      "metadata": {
        "id": "-e9rGj1-hcwU"
      },
      "outputs": [],
      "source": [
        "import numpy as np\n",
        "from sklearn.impute import SimpleImputer"
      ]
    },
    {
      "cell_type": "code",
      "execution_count": 3,
      "metadata": {
        "id": "c1OVO2z7hcwd"
      },
      "outputs": [],
      "source": [
        "# Carga de datos\n",
        "X_train = [[1,      4],\n",
        "           [np.nan, 3],\n",
        "           [7,      8]]\n",
        "\n",
        "#Cuando es una varable continua se podría ocupar el valor de la media o la mediana para los tema de imputación de valores ausentes\n",
        "#Cuando es una varable discreta se podría ocupar la moda\n"
      ]
    },
    {
      "cell_type": "code",
      "execution_count": 4,
      "metadata": {
        "colab": {
          "base_uri": "https://localhost:8080/"
        },
        "id": "UuHHztwShcwd",
        "outputId": "3baf3606-ea38-44e5-c07e-db52815a4c24"
      },
      "outputs": [
        {
          "output_type": "stream",
          "name": "stdout",
          "text": [
            "[[1. 4.]\n",
            " [4. 3.]\n",
            " [7. 8.]]\n"
          ]
        }
      ],
      "source": [
        "# Limpieza de datos: imputación valores ausentes (modelo)\n",
        "imp = SimpleImputer(strategy='mean') # Utilizamos la estrategia de la media\n",
        "\n",
        "#Podemos aplicar \"fit_transform\" sobre 'a', o hacerlo de manera separada con \"fit\" y \"transform\"\n",
        "imputer = imp.fit(X_train)\n",
        "X_train_clean = imputer.transform(X_train)\n",
        "print(X_train_clean)"
      ]
    },
    {
      "cell_type": "code",
      "execution_count": 5,
      "metadata": {
        "colab": {
          "base_uri": "https://localhost:8080/"
        },
        "id": "Yc01B4Ybhcwd",
        "outputId": "a14ff9f1-3f8b-4450-9a98-0551377b2e26"
      },
      "outputs": [
        {
          "output_type": "stream",
          "name": "stdout",
          "text": [
            "[[ 4. 10.]\n",
            " [ 6.  5.]\n",
            " [ 8.  2.]]\n"
          ]
        }
      ],
      "source": [
        "# Imputación de valores ausentes sobre el conjunto de test\n",
        "X_test = [[np.nan, 10],\n",
        "          [6,      np.nan],\n",
        "          [8,      2]]\n",
        "\n",
        "# Imputar los datos del conjunto de test\n",
        "X_test_clean = imputer.transform(X_test)\n",
        "print(X_test_clean)"
      ]
    },
    {
      "cell_type": "markdown",
      "metadata": {
        "id": "ks-1qWgxhcwe"
      },
      "source": [
        "#### EJEMPLO REAL"
      ]
    },
    {
      "cell_type": "code",
      "execution_count": 6,
      "metadata": {
        "colab": {
          "base_uri": "https://localhost:8080/"
        },
        "id": "0Clche9shcwe",
        "outputId": "ef5f50d0-478c-4b11-c9af-a9fcbca6dff9"
      },
      "outputs": [
        {
          "output_type": "stream",
          "name": "stdout",
          "text": [
            "   CulmenLength  CulmenDepth  FlipperLength  BodyMass  Species\n",
            "0          39.1         18.7          181.0    3750.0        0\n",
            "1          39.5         17.4          186.0    3800.0        0\n",
            "2          40.3         18.0          195.0    3250.0        0\n",
            "3           NaN          NaN            NaN       NaN        0\n",
            "4          36.7         19.3          193.0    3450.0        0\n"
          ]
        }
      ],
      "source": [
        "import pandas as pd\n",
        "\n",
        "# Cargar dataframe\n",
        "csv = pd.read_csv('penguins.csv', sep=';')\n",
        "print(csv.head())"
      ]
    },
    {
      "cell_type": "code",
      "execution_count": 9,
      "metadata": {
        "colab": {
          "base_uri": "https://localhost:8080/"
        },
        "id": "2KSodsvehcwf",
        "outputId": "627e2c39-ae37-4d71-e3f4-f611159282c2"
      },
      "outputs": [
        {
          "output_type": "stream",
          "name": "stdout",
          "text": [
            "[[3.910e+01 1.870e+01 1.810e+02 3.750e+03 0.000e+00]\n",
            " [3.950e+01 1.740e+01 1.860e+02 3.800e+03 0.000e+00]\n",
            " [4.030e+01 1.800e+01 1.950e+02 3.250e+03 0.000e+00]\n",
            " ...\n",
            " [4.960e+01 1.820e+01 1.930e+02 3.775e+03 2.000e+00]\n",
            " [5.080e+01 1.900e+01 2.100e+02 4.100e+03 2.000e+00]\n",
            " [5.020e+01 1.870e+01 1.980e+02 3.775e+03 2.000e+00]]\n"
          ]
        }
      ],
      "source": [
        "# Convertir dataframe en numpy array\n",
        "data = np.array(csv)\n",
        "print(data)"
      ]
    },
    {
      "cell_type": "code",
      "execution_count": 8,
      "metadata": {
        "colab": {
          "base_uri": "https://localhost:8080/"
        },
        "id": "Fw-osYwYhcwf",
        "outputId": "6858df24-f5e5-46b3-d295-7eae2dea2dda"
      },
      "outputs": [
        {
          "output_type": "stream",
          "name": "stdout",
          "text": [
            "[  3 271]\n"
          ]
        }
      ],
      "source": [
        "# Comprobar si existen valores ausentes\n",
        "pos_ausentes = np.unique(np.where(np.isnan(data))[0])\n",
        "print(pos_ausentes)"
      ]
    },
    {
      "cell_type": "code",
      "execution_count": 10,
      "metadata": {
        "id": "2G3ptuGUhcwf"
      },
      "outputs": [],
      "source": [
        "# Definimos imputador con la estrategia de la media\n",
        "imputer = SimpleImputer(strategy='mean')\n",
        "\n",
        "# Aplicamos el imputador definido sobre los datos\n",
        "data_clean = imputer.fit_transform(data)"
      ]
    },
    {
      "cell_type": "code",
      "execution_count": 11,
      "metadata": {
        "colab": {
          "base_uri": "https://localhost:8080/"
        },
        "id": "GT7Cfza0hcwf",
        "outputId": "1d17839c-f96e-4ec4-e448-0de8d6fc1213"
      },
      "outputs": [
        {
          "output_type": "stream",
          "name": "stdout",
          "text": [
            "[]\n"
          ]
        }
      ],
      "source": [
        "# Comprobar de nuevo si existen valores ausentes\n",
        "pos_ausentes = np.unique(np.where(np.isnan(data_clean))[0])\n",
        "print(pos_ausentes)"
      ]
    },
    {
      "cell_type": "code",
      "execution_count": 12,
      "metadata": {
        "id": "_xT_tofMhcwf"
      },
      "outputs": [],
      "source": [
        "# Guardamos el nuevo dataset corregido\n",
        "df = pd.DataFrame(np.round(data_clean, 2), columns = [\"Culmen length\",\"Culmen depth\",\"Flipper length\",\"Body mass\",\"Especies\"])\n",
        "df.to_csv('penguins_clean.csv', sep=';', index=False)"
      ]
    },
    {
      "cell_type": "code",
      "source": [],
      "metadata": {
        "id": "N4w6QwJ7nKQk"
      },
      "execution_count": null,
      "outputs": []
    }
  ],
  "metadata": {
    "kernelspec": {
      "display_name": "Python 3",
      "language": "python",
      "name": "python3"
    },
    "language_info": {
      "codemirror_mode": {
        "name": "ipython",
        "version": 3
      },
      "file_extension": ".py",
      "mimetype": "text/x-python",
      "name": "python",
      "nbconvert_exporter": "python",
      "pygments_lexer": "ipython3",
      "version": "3.8.5"
    },
    "colab": {
      "provenance": [],
      "include_colab_link": true
    }
  },
  "nbformat": 4,
  "nbformat_minor": 0
}