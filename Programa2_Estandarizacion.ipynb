{
  "cells": [
    {
      "cell_type": "markdown",
      "metadata": {
        "id": "view-in-github",
        "colab_type": "text"
      },
      "source": [
        "<a href=\"https://colab.research.google.com/github/JorgeZarama/Supervisado/blob/main/Programa2_Estandarizacion.ipynb\" target=\"_parent\"><img src=\"https://colab.research.google.com/assets/colab-badge.svg\" alt=\"Open In Colab\"/></a>"
      ]
    },
    {
      "cell_type": "code",
      "execution_count": null,
      "metadata": {
        "id": "4H5adtoKtzlg"
      },
      "outputs": [],
      "source": [
        "from sklearn import preprocessing\n",
        "import numpy as np"
      ]
    },
    {
      "cell_type": "code",
      "execution_count": null,
      "metadata": {
        "id": "_UiLgSYntzlh"
      },
      "outputs": [],
      "source": [
        "# Carga de datos.\n",
        "X_train = np.array([[ 1., -1.,  2.],\n",
        "                    [ 2.,  0.,  0.],\n",
        "                    [ 0.,  1., -1.]])"
      ]
    },
    {
      "cell_type": "code",
      "execution_count": null,
      "metadata": {
        "id": "0-cOOlqwtzli",
        "outputId": "e291e680-bd47-4717-c0f2-adeb290200d0"
      },
      "outputs": [
        {
          "name": "stdout",
          "output_type": "stream",
          "text": [
            "[[ 0.         -1.22474487  1.33630621]\n",
            " [ 1.22474487  0.         -0.26726124]\n",
            " [-1.22474487  1.22474487 -1.06904497]]\n"
          ]
        }
      ],
      "source": [
        "# Limpieza de datos: estandarización.\n",
        "standardizer = preprocessing.StandardScaler()\n",
        "\n",
        "# Estandarizamos los datos de entrenamiento\n",
        "# ???\n",
        "X_train_std = standardizer.fit_transform(X_train)\n",
        "print(X_train_std)"
      ]
    },
    {
      "cell_type": "code",
      "execution_count": null,
      "metadata": {
        "id": "h3IFNbCttzli"
      },
      "outputs": [],
      "source": [
        "X_train_2 = np.array([[ 1., -1.,  2.],\n",
        "                    [ 2.,  1.,  1.],\n",
        "                    [ 1.,  1., -1.]])"
      ]
    },
    {
      "cell_type": "code",
      "execution_count": null,
      "metadata": {
        "id": "w21j7mtKtzlj",
        "outputId": "128501cf-417c-4aaf-d4fa-e4b5eceedd87"
      },
      "outputs": [
        {
          "name": "stdout",
          "output_type": "stream",
          "text": [
            "True\n"
          ]
        }
      ],
      "source": [
        "# Aplicamos los métodos \"fit\" y \"transform\" por separado\n",
        "# ???\n",
        "# ???\n",
        "\n",
        "f = standardizer.fit(X_train)\n",
        "X_train_std_2 = f.transform(X_train)\n",
        "print(np.array_equiv(X_train_std, X_train_std_2))"
      ]
    },
    {
      "cell_type": "code",
      "execution_count": null,
      "metadata": {
        "id": "PjKwCk78tzlj",
        "outputId": "302aeb18-1462-4fa2-8d82-b846a7672de2"
      },
      "outputs": [
        {
          "name": "stdout",
          "output_type": "stream",
          "text": [
            "[[ 0.         -1.22474487  1.33630621]\n",
            " [ 1.22474487  1.22474487  0.53452248]\n",
            " [ 0.          1.22474487 -1.06904497]]\n"
          ]
        }
      ],
      "source": [
        "X_train_std_3 = f.transform(X_train_2)\n",
        "print(X_train_std_3)"
      ]
    },
    {
      "cell_type": "code",
      "execution_count": null,
      "metadata": {
        "id": "9lpTJ77ytzlj"
      },
      "outputs": [],
      "source": []
    }
  ],
  "metadata": {
    "kernelspec": {
      "display_name": "Python 3 (ipykernel)",
      "language": "python",
      "name": "python3"
    },
    "language_info": {
      "codemirror_mode": {
        "name": "ipython",
        "version": 3
      },
      "file_extension": ".py",
      "mimetype": "text/x-python",
      "name": "python",
      "nbconvert_exporter": "python",
      "pygments_lexer": "ipython3",
      "version": "3.11.3"
    },
    "colab": {
      "provenance": [],
      "include_colab_link": true
    }
  },
  "nbformat": 4,
  "nbformat_minor": 0
}