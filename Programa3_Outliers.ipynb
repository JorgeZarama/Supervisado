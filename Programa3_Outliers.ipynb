{
  "cells": [
    {
      "cell_type": "markdown",
      "metadata": {
        "id": "view-in-github",
        "colab_type": "text"
      },
      "source": [
        "<a href=\"https://colab.research.google.com/github/JorgeZarama/Supervisado/blob/main/Programa3_Outliers.ipynb\" target=\"_parent\"><img src=\"https://colab.research.google.com/assets/colab-badge.svg\" alt=\"Open In Colab\"/></a>"
      ]
    },
    {
      "cell_type": "markdown",
      "metadata": {
        "id": "Sprai0WEQEqK"
      },
      "source": [
        "## DETECCIÓN DE OUTLIERS"
      ]
    },
    {
      "cell_type": "code",
      "execution_count": 9,
      "metadata": {
        "id": "Ovf9v4TuQEqN"
      },
      "outputs": [],
      "source": [
        "import pandas as pd\n",
        "import numpy as np\n",
        "from scipy import stats\n",
        "from sklearn.covariance import EllipticEnvelope\n",
        "import matplotlib.pyplot as plt"
      ]
    },
    {
      "cell_type": "code",
      "execution_count": 10,
      "metadata": {
        "colab": {
          "base_uri": "https://localhost:8080/"
        },
        "id": "KWZP1t2AQEqO",
        "outputId": "aa4b22a0-61cc-4774-c343-33582c81c641"
      },
      "outputs": [
        {
          "output_type": "stream",
          "name": "stdout",
          "text": [
            "            a         b\n",
            "0    0.149014 -0.041479\n",
            "1    0.194307  0.456909\n",
            "2   -0.070246 -0.070241\n",
            "3    0.473764  0.230230\n",
            "4   -0.140842  0.162768\n",
            "..        ...       ...\n",
            "195 -5.114441  0.646251\n",
            "196  5.631630  0.277174\n",
            "197  1.552784  2.348984\n",
            "198 -0.545507  1.530697\n",
            "199  1.011772  4.813896\n",
            "\n",
            "[200 rows x 2 columns]\n"
          ]
        }
      ],
      "source": [
        "# Carga de datos.\n",
        "df = pd.read_csv(\"outliers.csv\")\n",
        "print(df)"
      ]
    },
    {
      "cell_type": "markdown",
      "metadata": {
        "id": "KEULth6xQEqP"
      },
      "source": [
        "### 1) EllipticEnvelope()"
      ]
    },
    {
      "cell_type": "code",
      "execution_count": 11,
      "metadata": {
        "colab": {
          "base_uri": "https://localhost:8080/"
        },
        "id": "JF0134peQEqQ",
        "outputId": "f22aad17-74e4-46e8-c9cf-3e721fc9819d"
      },
      "outputs": [
        {
          "output_type": "stream",
          "name": "stdout",
          "text": [
            "[ 1  1  1  1  1  1  1  1  1  1  1  1  1  1  1  1  1  1  1  1  1  1  1  1\n",
            "  1  1  1  1  1  1  1  1  1  1  1  1  1  1  1  1  1  1  1  1  1  1  1  1\n",
            "  1  1  1  1  1  1  1  1  1  1  1  1  1  1  1  1  1  1  1  1  1  1  1  1\n",
            "  1  1  1  1  1  1  1  1  1  1  1  1  1  1  1  1  1  1  1  1  1  1  1  1\n",
            "  1  1  1  1  1  1  1  1  1  1  1  1  1  1  1  1  1  1  1  1  1  1  1  1\n",
            "  1  1  1  1  1  1  1  1  1  1  1  1  1  1  1  1  1  1  1  1  1  1  1  1\n",
            "  1  1  1  1  1  1 -1 -1 -1 -1 -1 -1 -1 -1 -1 -1 -1 -1 -1 -1 -1 -1 -1 -1\n",
            " -1 -1 -1 -1 -1 -1 -1 -1 -1 -1 -1 -1 -1 -1 -1 -1 -1 -1 -1 -1 -1 -1 -1 -1\n",
            " -1 -1 -1 -1 -1 -1 -1 -1]\n",
            "\n",
            "Outliers en la posición: \n",
            " [150 151 152 153 154 155 156 157 158 159 160 161 162 163 164 165 166 167\n",
            " 168 169 170 171 172 173 174 175 176 177 178 179 180 181 182 183 184 185\n",
            " 186 187 188 189 190 191 192 193 194 195 196 197 198 199]\n",
            "\n",
            "Número de outliers: \n",
            " 50\n"
          ]
        }
      ],
      "source": [
        "# Entrenamos un objeto de tipo EllipticEnvelope\n",
        "algorithm = EllipticEnvelope(support_fraction=None, contamination=0.25, random_state=42)\n",
        "#contamination=0.25 número de outliers que puede tener tu dataset\n",
        "#random_state=42 fijar una semilla de aleatoridad\n",
        "outlier_method = algorithm.fit(df)\n",
        "\n",
        "# Aplicamos el método de detección de outliers entrenado sobre nuesto dataset\n",
        "df_outliers = outlier_method.predict(df)\n",
        "print(df_outliers)\n",
        "\n",
        "# Determinar la posición de los outliers\n",
        "pos_outliers = np.where(df_outliers==-1)[0]\n",
        "print('\\nOutliers en la posición: \\n', pos_outliers)\n",
        "\n",
        "# Determinar el número de outliers\n",
        "print('\\nNúmero de outliers: \\n', len(pos_outliers))"
      ]
    },
    {
      "cell_type": "code",
      "execution_count": 12,
      "metadata": {
        "id": "AegzvlvlQEqQ"
      },
      "outputs": [],
      "source": [
        "# Definimos una función que, dado un determinado \"df\" y un \"algorithm\", devuelva la matriz y la posición de outliers\n",
        "def find_outliers(df, algorithm):\n",
        "\n",
        "    # Entreno Algoritmo\n",
        "    outlier_method = algorithm.fit(df)\n",
        "\n",
        "    #Aplicar el metodo de outliers\n",
        "    df_outliers = outlier_method.predict(df)\n",
        "\n",
        "    #Extraer posición de los outliers\n",
        "    pos_outliers = np.where(df_outliers==-1)[0]\n",
        "\n",
        "    return df_outliers, pos_outliers"
      ]
    },
    {
      "cell_type": "code",
      "execution_count": 13,
      "metadata": {
        "colab": {
          "base_uri": "https://localhost:8080/"
        },
        "id": "t9aPK7wyQEqR",
        "outputId": "3667a2e2-bcb1-4c54-84b3-8e2ce28275ae"
      },
      "outputs": [
        {
          "output_type": "execute_result",
          "data": {
            "text/plain": [
              "(array([ 1,  1,  1,  1,  1,  1,  1,  1,  1,  1,  1,  1,  1,  1,  1,  1,  1,\n",
              "         1,  1,  1,  1,  1,  1,  1,  1,  1,  1,  1,  1,  1,  1,  1,  1,  1,\n",
              "         1,  1,  1,  1,  1,  1,  1,  1,  1,  1,  1,  1,  1,  1,  1,  1,  1,\n",
              "         1,  1,  1,  1,  1,  1,  1,  1,  1,  1,  1,  1,  1,  1,  1,  1,  1,\n",
              "         1,  1,  1,  1,  1,  1,  1,  1,  1,  1,  1,  1,  1,  1,  1,  1,  1,\n",
              "         1,  1,  1,  1,  1,  1,  1,  1,  1,  1,  1,  1,  1,  1,  1,  1,  1,\n",
              "         1,  1,  1,  1,  1,  1,  1,  1,  1,  1,  1,  1,  1,  1,  1,  1,  1,\n",
              "         1,  1,  1,  1,  1,  1,  1,  1,  1,  1,  1,  1,  1,  1,  1,  1,  1,\n",
              "         1,  1,  1,  1,  1,  1,  1,  1,  1,  1,  1,  1,  1,  1, -1, -1, -1,\n",
              "        -1, -1, -1, -1, -1, -1, -1, -1, -1, -1, -1, -1, -1, -1, -1, -1, -1,\n",
              "        -1, -1, -1, -1, -1, -1, -1, -1, -1, -1, -1, -1, -1, -1, -1, -1, -1,\n",
              "        -1, -1, -1, -1, -1, -1, -1, -1, -1, -1, -1, -1, -1]),\n",
              " array([150, 151, 152, 153, 154, 155, 156, 157, 158, 159, 160, 161, 162,\n",
              "        163, 164, 165, 166, 167, 168, 169, 170, 171, 172, 173, 174, 175,\n",
              "        176, 177, 178, 179, 180, 181, 182, 183, 184, 185, 186, 187, 188,\n",
              "        189, 190, 191, 192, 193, 194, 195, 196, 197, 198, 199]))"
            ]
          },
          "metadata": {},
          "execution_count": 13
        }
      ],
      "source": [
        "find_outliers(df, algorithm)"
      ]
    },
    {
      "cell_type": "markdown",
      "metadata": {
        "id": "Twuw3E2AQEqR"
      },
      "source": [
        "### 2) Otros métodos similares"
      ]
    },
    {
      "cell_type": "code",
      "execution_count": 14,
      "metadata": {
        "colab": {
          "base_uri": "https://localhost:8080/"
        },
        "id": "w_JPWO-EQEqS",
        "outputId": "b1965643-3093-4e1d-e8b7-920a1f752714"
      },
      "outputs": [
        {
          "output_type": "execute_result",
          "data": {
            "text/plain": [
              "(array([ 1,  1,  1,  1,  1,  1,  1,  1,  1,  1,  1,  1,  1,  1,  1,  1,  1,\n",
              "         1,  1,  1,  1,  1,  1,  1,  1,  1,  1,  1,  1,  1,  1,  1,  1,  1,\n",
              "         1,  1,  1,  1,  1,  1,  1,  1,  1,  1,  1,  1,  1,  1,  1,  1,  1,\n",
              "         1,  1,  1,  1,  1,  1,  1,  1,  1,  1,  1,  1,  1,  1,  1,  1,  1,\n",
              "         1,  1,  1,  1,  1,  1,  1,  1,  1,  1,  1,  1,  1,  1,  1,  1,  1,\n",
              "         1,  1,  1,  1,  1,  1,  1,  1,  1,  1,  1,  1,  1,  1,  1,  1,  1,\n",
              "         1,  1,  1,  1,  1,  1,  1,  1,  1,  1,  1,  1,  1,  1,  1,  1,  1,\n",
              "         1,  1,  1,  1,  1,  1,  1,  1,  1,  1,  1,  1,  1,  1,  1,  1,  1,\n",
              "         1,  1,  1,  1,  1,  1,  1,  1,  1,  1,  1,  1,  1,  1, -1, -1, -1,\n",
              "        -1, -1, -1, -1, -1, -1, -1, -1, -1, -1, -1,  1, -1, -1, -1, -1, -1,\n",
              "        -1, -1, -1, -1, -1, -1, -1, -1, -1, -1, -1, -1, -1, -1, -1, -1, -1,\n",
              "        -1, -1, -1, -1, -1, -1, -1, -1, -1, -1, -1,  1, -1]),\n",
              " array([150, 151, 152, 153, 154, 155, 156, 157, 158, 159, 160, 161, 162,\n",
              "        163, 165, 166, 167, 168, 169, 170, 171, 172, 173, 174, 175, 176,\n",
              "        177, 178, 179, 180, 181, 182, 183, 184, 185, 186, 187, 188, 189,\n",
              "        190, 191, 192, 193, 194, 195, 196, 197, 199]))"
            ]
          },
          "metadata": {},
          "execution_count": 14
        }
      ],
      "source": [
        "from sklearn.ensemble import IsolationForest\n",
        "from sklearn.svm import OneClassSVM\n",
        "from sklearn.neighbors import LocalOutlierFactor\n",
        "#https://scikit-learn.org/stable/modules/generated/sklearn.ensemble.IsolationForest.html\n",
        "\n",
        "IF = IsolationForest(n_estimators=100, contamination='auto', random_state=42)\n",
        "find_outliers(df, IF)\n",
        "# OC_SVM = ???\n",
        "# LOF = ???\n",
        "\n",
        "#df_outliers, pos_outliers = find_outliers(df, IF)\n",
        "#print(len(pos_outliers))"
      ]
    },
    {
      "cell_type": "code",
      "execution_count": 15,
      "metadata": {
        "colab": {
          "base_uri": "https://localhost:8080/"
        },
        "id": "HvBiwEy4QEqS",
        "outputId": "c26e7bfd-7031-4967-a226-12475dd1a5e9"
      },
      "outputs": [
        {
          "output_type": "stream",
          "name": "stdout",
          "text": [
            "            a         b\n",
            "0    0.149014 -0.041479\n",
            "1    0.194307  0.456909\n",
            "2   -0.070246 -0.070241\n",
            "3    0.473764  0.230230\n",
            "4   -0.140842  0.162768\n",
            "..        ...       ...\n",
            "145 -0.062437 -0.147900\n",
            "146 -0.176809  0.254881\n",
            "147  0.107105 -0.207873\n",
            "148  0.269880  0.092190\n",
            "149  0.243859  0.188889\n",
            "\n",
            "[150 rows x 2 columns]\n"
          ]
        }
      ],
      "source": [
        "# Eliminamos los outliers\n",
        "new_df = df[df_outliers==1]\n",
        "print(new_df)"
      ]
    },
    {
      "cell_type": "markdown",
      "metadata": {
        "id": "zr2iMZFYQEqS"
      },
      "source": [
        "<img src='foto_pizarra_cajas_bigotes-2.jpg' >"
      ]
    },
    {
      "cell_type": "markdown",
      "metadata": {
        "id": "SNiZrIBXQEqT"
      },
      "source": [
        "### 3) Box plot"
      ]
    },
    {
      "cell_type": "code",
      "execution_count": 16,
      "metadata": {
        "colab": {
          "base_uri": "https://localhost:8080/",
          "height": 534
        },
        "id": "_wUnA-K8QEqT",
        "outputId": "c1882ebe-f7df-4ba6-e0da-2a8af281338e"
      },
      "outputs": [
        {
          "output_type": "stream",
          "name": "stdout",
          "text": [
            "limite inferior:  -1.0853060827395105\n",
            "limite superior:  1.0119554520872196\n",
            "Posición de outliers:  [150 153 154 157 159 160 162 165 168 169 171 172 174 175 177 178 181 184\n",
            " 185 186 187 190 191 192 193 195 151 152 155 156 161 163 164 166 167 173\n",
            " 176 179 180 182 188 189 196 197]\n",
            "Número de outliers:  44\n"
          ]
        },
        {
          "output_type": "display_data",
          "data": {
            "text/plain": [
              "<Figure size 640x480 with 1 Axes>"
            ],
            "image/png": "[encoded data removed]"
          },
          "metadata": {}
        }
      ],
      "source": [
        "# Diagrama de caja y vigote\n",
        "# Seleccionamos el atributo que vamos a medir\n",
        "a = df['a']\n",
        "\n",
        "# Seleccionamos los umbrales a partir de los cuales vamos a considerar outliers\n",
        "Q1 = stats.scoreatpercentile(a, 25)\n",
        "Q3 = stats.scoreatpercentile(a, 75)\n",
        "RIC = Q3 - Q1 #conformo el rango intecuartílico\n",
        "li = Q1 - 1.5*RIC #xmin si queremos calcular los outliers extremos cambiar esta constante por 3\n",
        "ls = Q3 + 1.5*RIC #xmax si queremos calcular los outliers extremos cambiar esta constante por 3\n",
        "\n",
        "# Observamos los límites inferior y superior\n",
        "print('limite inferior: ', li)\n",
        "print('limite superior: ', ls)\n",
        "\n",
        "# Buscamos la posición de los outliers\n",
        "pos_i = np.where(a<li)[0]\n",
        "pos_s = np.where(a>ls)[0]\n",
        "pos_outliers = np.concatenate((pos_i, pos_s))\n",
        "print('Posición de outliers: ', pos_outliers)\n",
        "print('Número de outliers: ', len(pos_outliers))\n",
        "\n",
        "# Dibujamos el diagrama de caja y bigotes\n",
        "prop = plt.boxplot(a)\n",
        "plt.boxplot(a)\n",
        "plt.show()"
      ]
    },
    {
      "cell_type": "code",
      "execution_count": 21,
      "metadata": {
        "colab": {
          "base_uri": "https://localhost:8080/"
        },
        "id": "3hZkp5XQQEqT",
        "outputId": "bc79923b-b4e1-4327-f5da-5734dad3b100"
      },
      "outputs": [
        {
          "output_type": "stream",
          "name": "stdout",
          "text": [
            "Posición de outliers:  [150 153 154 157 159 160 162 165 168 169 171 172 174 175 177 178 181 184\n",
            " 185 186 187 190 191 192 193 195 151 152 155 156 161 163 164 166 167 173\n",
            " 176 179 180 182 188 189 196 197]\n",
            "Posición de outliers:  [150 153 154 157 159 160 162 165 168 169 171 172 174 175 177 178 181 184\n",
            " 185 186 187 190 191 192 193 195 151 152 155 156 161 163 164 166 167 173\n",
            " 176 179 180 182 188 189 196 197]\n",
            "Número de outliers:  44\n",
            "[150 153 154 157 159 160 162 165 168 169 171 172 174 175 177 178 181 184\n",
            " 185 186 187 190 191 192 193 195 151 152 155 156 161 163 164 166 167 173\n",
            " 176 179 180 182 188 189 196 197]\n"
          ]
        }
      ],
      "source": [
        "# Definir una función que, dada una columna de un dataframe, devuelva la posición de los outliers según el método box plot\n",
        "def find_limits_BP(variable):\n",
        "    Q1 = stats.scoreatpercentile(variable, 25)\n",
        "    Q3 = stats.scoreatpercentile(variable, 75)\n",
        "    RIC = Q3 - Q1 #conformo el rango intecuartílico\n",
        "    li = Q1 - 1.5*RIC #xmin si queremos calcular los outliers extremos cambiar esta constante por 3\n",
        "    ls = Q3 + 1.5*RIC #xmax si queremos calcular los outliers extremos cambiar esta constante por 3\n",
        "    pos_i = np.where(variable<li)[0]\n",
        "    pos_s = np.where(variable>ls)[0]\n",
        "    pos_outliers = np.concatenate((pos_i, pos_s))\n",
        "    print('Posición de outliers: ', pos_outliers)\n",
        "    print('Posición de outliers: ', pos_outliers)\n",
        "    print('Número de outliers: ', len(pos_outliers))\n",
        "    return pos_outliers\n",
        "print(find_limits_BP(df['a']))"
      ]
    },
    {
      "cell_type": "code",
      "execution_count": 22,
      "metadata": {
        "colab": {
          "base_uri": "https://localhost:8080/"
        },
        "id": "w6svNn4CQEqT",
        "outputId": "18d279d1-d378-45ec-b7d2-2b232af6a38a"
      },
      "outputs": [
        {
          "output_type": "stream",
          "name": "stdout",
          "text": [
            "Posición de outliers:  [150 153 154 157 159 160 162 165 168 169 171 172 174 175 177 178 181 184\n",
            " 185 186 187 190 191 192 193 195 151 152 155 156 161 163 164 166 167 173\n",
            " 176 179 180 182 188 189 196 197]\n",
            "Posición de outliers:  [150 153 154 157 159 160 162 165 168 169 171 172 174 175 177 178 181 184\n",
            " 185 186 187 190 191 192 193 195 151 152 155 156 161 163 164 166 167 173\n",
            " 176 179 180 182 188 189 196 197]\n",
            "Número de outliers:  44\n",
            "Posición de outliers:  [150 152 160 161 165 171 173 176 178 181 186 189 104 151 153 154 156 157\n",
            " 158 159 162 166 167 170 172 174 175 177 179 180 183 187 190 191 192 193\n",
            " 194 197 198 199]\n",
            "Posición de outliers:  [150 152 160 161 165 171 173 176 178 181 186 189 104 151 153 154 156 157\n",
            " 158 159 162 166 167 170 172 174 175 177 179 180 183 187 190 191 192 193\n",
            " 194 197 198 199]\n",
            "Número de outliers:  40\n",
            "Posiciones de outliers:  [104 150 151 152 153 154 155 156 157 158 159 160 161 162 163 164 165 166\n",
            " 167 168 169 170 171 172 173 174 175 176 177 178 179 180 181 182 183 184\n",
            " 185 186 187 188 189 190 191 192 193 194 195 196 197 198 199]\n",
            "Numero de outliers:  51\n"
          ]
        }
      ],
      "source": [
        "# Creamos un bucle for que estime los valores outliers de cada atributo\n",
        "headers = df.columns # nombre de los atributos del CSV\n",
        "pos_outliers = []\n",
        "for i in range(len(headers)):\n",
        "    variable = df[headers[i]] # Atributo 'x'\n",
        "    pos_out = np.expand_dims(find_limits_BP(variable), axis=1) # Llamamos a la función que hemos creado\n",
        "    pos_outliers.append(pos_out) # Lo añadimos en una lista\n",
        "\n",
        "# Concatenamos todas las posiciones de outliers\n",
        "po = np.vstack(pos_outliers)\n",
        "\n",
        "# Vemos las posiciones de todos los outliers\n",
        "pos_out = np.unique(po)\n",
        "print('Posiciones de outliers: ', pos_out)\n",
        "\n",
        "# Observamos el número de outliers\n",
        "print('Numero de outliers: ', len(pos_out))"
      ]
    },
    {
      "cell_type": "code",
      "source": [],
      "metadata": {
        "id": "r-KTt8a1bLvH"
      },
      "execution_count": null,
      "outputs": []
    }
  ],
  "metadata": {
    "kernelspec": {
      "display_name": "Python 3 (ipykernel)",
      "language": "python",
      "name": "python3"
    },
    "language_info": {
      "codemirror_mode": {
        "name": "ipython",
        "version": 3
      },
      "file_extension": ".py",
      "mimetype": "text/x-python",
      "name": "python",
      "nbconvert_exporter": "python",
      "pygments_lexer": "ipython3",
      "version": "3.11.3"
    },
    "colab": {
      "provenance": [],
      "include_colab_link": true
    }
  },
  "nbformat": 4,
  "nbformat_minor": 0
}