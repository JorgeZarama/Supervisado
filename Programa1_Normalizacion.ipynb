{
  "cells": [
    {
      "cell_type": "markdown",
      "metadata": {
        "id": "view-in-github",
        "colab_type": "text"
      },
      "source": [
        "<a href=\"https://colab.research.google.com/github/JorgeZarama/Supervisado/blob/main/Programa1_Normalizacion.ipynb\" target=\"_parent\"><img src=\"https://colab.research.google.com/assets/colab-badge.svg\" alt=\"Open In Colab\"/></a>"
      ]
    },
    {
      "cell_type": "code",
      "execution_count": null,
      "metadata": {
        "id": "1MzN-cVMtikW"
      },
      "outputs": [],
      "source": [
        "from sklearn import preprocessing\n",
        "import numpy as np"
      ]
    },
    {
      "cell_type": "code",
      "execution_count": null,
      "metadata": {
        "id": "PPxqtVfxtikY",
        "outputId": "887727da-42ff-4998-c420-15d7b4df597d"
      },
      "outputs": [
        {
          "name": "stdout",
          "output_type": "stream",
          "text": [
            "[[ 1. -4.  5.]\n",
            " [ 5.  0.  2.]\n",
            " [ 0.  6. -3.]]\n"
          ]
        }
      ],
      "source": [
        "# Carga de datos.\n",
        "X_train = np.array([[ 1., -4.,  5.],\n",
        "                    [ 5.,  0.,  2.],\n",
        "                    [ 0.,  6., -3.]])\n",
        "\n",
        "print(X_train)"
      ]
    },
    {
      "cell_type": "code",
      "execution_count": null,
      "metadata": {
        "id": "GSfqgf7Ztika"
      },
      "outputs": [],
      "source": [
        "# Limpieza de datos: normalización.\n",
        "#nos devuelve un objeto de tipo normalizados\n",
        "normalizer = preprocessing.MinMaxScaler()\n",
        "#luego ese normalizador y aplica la función fittransfor, hace dos cosas entrena el normalizador saber porque valor reamplazar y\n",
        "#Xij Nomralizado\n",
        "#son dos \"funciones\" en una misma función fit y transform\n",
        "X_train_norm = normalizer.fit_transform(X_train)"
      ]
    },
    {
      "cell_type": "code",
      "execution_count": null,
      "metadata": {
        "id": "6gL4JCN8tika",
        "outputId": "8cc4adc0-9d47-435e-b4e1-df3c080e14d0"
      },
      "outputs": [
        {
          "name": "stdout",
          "output_type": "stream",
          "text": [
            "[[0.2   0.    1.   ]\n",
            " [1.    0.4   0.625]\n",
            " [0.    1.    0.   ]]\n"
          ]
        }
      ],
      "source": [
        "# Salida de resultados.\n",
        "print(X_train_norm)"
      ]
    },
    {
      "cell_type": "code",
      "execution_count": null,
      "metadata": {
        "id": "Qwr8ComCtika",
        "outputId": "edfa28cf-2105-4054-8271-1479b43262b2"
      },
      "outputs": [
        {
          "name": "stdout",
          "output_type": "stream",
          "text": [
            "MinMaxScaler()\n",
            "True\n"
          ]
        }
      ],
      "source": [
        "# Ejemplo para ver que los resultados son iguales si aplicamos los métodos \"fit\" y \"transform\" por separado\n",
        "X_train_2 = np.copy(X_train)\n",
        "\n",
        "# Crea un objeto \"fitted_normalizer\" llamando al método \"fit\",\n",
        "# fit solo se aplica en el conjunto de datos de entrenamiento\n",
        "f = normalizer.fit(X_train)\n",
        "print(f)\n",
        "# Aplica el objeto sobre los datos \"X_train_2\" para obtener \"X_train_norm_2\"\n",
        "X_train_norm_2 = f.transform(X_train_2)\n",
        "\n",
        "# Comprueba si \"X_train_norm\" y \"X_train_norm_2\" son iguales\n",
        "print(np.array_equiv(X_train_norm, X_train_norm_2))"
      ]
    },
    {
      "cell_type": "code",
      "execution_count": null,
      "metadata": {
        "id": "LU_SeDNetikb"
      },
      "outputs": [],
      "source": [
        "# Normalizar un nuevo conjunto de datos de test (SOLO HAY QUE APLICAR EL MÉTODO \"transform\", NO EL \"fit\")\n",
        "X_test = np.array([[ 1., -3.,  2.],\n",
        "                    [ 3.,  0.,  0.],\n",
        "                    [ 0.,  8., -1.]])\n",
        "\n",
        "# Normalizar los datos de \"X_test\"\n",
        "# ???"
      ]
    },
    {
      "cell_type": "code",
      "execution_count": null,
      "metadata": {
        "id": "6jowIpEGtikb",
        "outputId": "18ccc9e9-670b-4668-a281-4da26bc31031"
      },
      "outputs": [
        {
          "name": "stdout",
          "output_type": "stream",
          "text": [
            "[[0.2   0.1   0.625]\n",
            " [0.6   0.4   0.375]\n",
            " [0.    1.2   0.25 ]]\n"
          ]
        }
      ],
      "source": [
        "X_train_norm_3 = f.transform(X_test)\n",
        "print(X_train_norm_3)"
      ]
    },
    {
      "cell_type": "code",
      "execution_count": null,
      "metadata": {
        "id": "EDwduaottikc"
      },
      "outputs": [],
      "source": []
    },
    {
      "cell_type": "code",
      "execution_count": null,
      "metadata": {
        "id": "a5uL7iFJtikc"
      },
      "outputs": [],
      "source": []
    }
  ],
  "metadata": {
    "kernelspec": {
      "display_name": "Python 3 (ipykernel)",
      "language": "python",
      "name": "python3"
    },
    "language_info": {
      "codemirror_mode": {
        "name": "ipython",
        "version": 3
      },
      "file_extension": ".py",
      "mimetype": "text/x-python",
      "name": "python",
      "nbconvert_exporter": "python",
      "pygments_lexer": "ipython3",
      "version": "3.11.3"
    },
    "colab": {
      "provenance": [],
      "include_colab_link": true
    }
  },
  "nbformat": 4,
  "nbformat_minor": 0
}